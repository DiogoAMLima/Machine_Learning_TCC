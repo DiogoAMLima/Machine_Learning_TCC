{
 "cells": [
  {
   "cell_type": "markdown",
   "metadata": {
    "application/vnd.databricks.v1+cell": {
     "cellMetadata": {},
     "inputWidgets": {},
     "nuid": "3ab41cb2-970b-4fbf-b85d-c24a116473ac",
     "showTitle": false,
     "title": ""
    },
    "id": "aJCA6z-1g55U"
   },
   "source": [
    "## Tratamento de dados e salvando o modelo"
   ]
  },
  {
   "cell_type": "code",
   "execution_count": null,
   "metadata": {
    "application/vnd.databricks.v1+cell": {
     "cellMetadata": {
      "byteLimit": 2048000,
      "rowLimit": 10000
     },
     "inputWidgets": {},
     "nuid": "e8642ead-3986-4df7-b0f9-4038490c2082",
     "showTitle": false,
     "title": ""
    },
    "id": "9i_UVxlz5Akh"
   },
   "outputs": [],
   "source": [
    "import pyspark.pandas as ps"
   ]
  },
  {
   "cell_type": "code",
   "execution_count": null,
   "metadata": {
    "application/vnd.databricks.v1+cell": {
     "cellMetadata": {
      "byteLimit": 2048000,
      "rowLimit": 10000
     },
     "inputWidgets": {},
     "nuid": "41719d07-91bd-4365-b3f6-fa32bd543e4a",
     "showTitle": false,
     "title": ""
    },
    "id": "IVSFpJO55FUR"
   },
   "outputs": [],
   "source": [
    "base_dummies = ps.read_csv('/FileStore/tables/Projeto_ML/Dados_dummies.csv')"
   ]
  },
  {
   "cell_type": "code",
   "execution_count": null,
   "metadata": {
    "application/vnd.databricks.v1+cell": {
     "cellMetadata": {
      "byteLimit": 2048000,
      "rowLimit": 10000
     },
     "inputWidgets": {},
     "nuid": "6e6b7203-ae62-4227-94d7-0993f98fef8b",
     "showTitle": false,
     "title": ""
    },
    "id": "jv-TDnMU5GzI"
   },
   "outputs": [
    {
     "data": {
      "text/html": [
       "<div>\n",
       "<style scoped>\n",
       "    .dataframe tbody tr th:only-of-type {\n",
       "        vertical-align: middle;\n",
       "    }\n",
       "\n",
       "    .dataframe tbody tr th {\n",
       "        vertical-align: top;\n",
       "    }\n",
       "\n",
       "    .dataframe thead th {\n",
       "        text-align: right;\n",
       "    }\n",
       "</style>\n",
       "<table border=\"1\" class=\"dataframe\">\n",
       "  <thead>\n",
       "    <tr style=\"text-align: right;\">\n",
       "      <th></th>\n",
       "      <th>Nome</th>\n",
       "      <th>Status</th>\n",
       "      <th>Idade</th>\n",
       "      <th>Sexo</th>\n",
       "      <th>Histórico Familiar</th>\n",
       "      <th>Câncer</th>\n",
       "      <th>Histórico pessoal</th>\n",
       "    </tr>\n",
       "  </thead>\n",
       "  <tbody>\n",
       "    <tr>\n",
       "      <th>0</th>\n",
       "      <td>Pedro Oliveira</td>\n",
       "      <td>T</td>\n",
       "      <td>25</td>\n",
       "      <td>Masculino</td>\n",
       "      <td>Sim</td>\n",
       "      <td>Leucemia</td>\n",
       "      <td>Sim</td>\n",
       "    </tr>\n",
       "    <tr>\n",
       "      <th>1</th>\n",
       "      <td>Javier Hernandez</td>\n",
       "      <td>N</td>\n",
       "      <td>37</td>\n",
       "      <td>Masculino</td>\n",
       "      <td>Não</td>\n",
       "      <td>Câncer de mama</td>\n",
       "      <td>Não</td>\n",
       "    </tr>\n",
       "    <tr>\n",
       "      <th>2</th>\n",
       "      <td>Sergei Ivanov</td>\n",
       "      <td>M</td>\n",
       "      <td>18</td>\n",
       "      <td>Masculino</td>\n",
       "      <td>Sim</td>\n",
       "      <td>Câncer de próstata</td>\n",
       "      <td>Sim</td>\n",
       "    </tr>\n",
       "    <tr>\n",
       "      <th>3</th>\n",
       "      <td>Raphael Dupont</td>\n",
       "      <td>T</td>\n",
       "      <td>42</td>\n",
       "      <td>Masculino</td>\n",
       "      <td>Não</td>\n",
       "      <td>Câncer de fígado</td>\n",
       "      <td>Não</td>\n",
       "    </tr>\n",
       "    <tr>\n",
       "      <th>4</th>\n",
       "      <td>Ricardo Santos</td>\n",
       "      <td>N</td>\n",
       "      <td>56</td>\n",
       "      <td>Masculino</td>\n",
       "      <td>Não</td>\n",
       "      <td>Câncer de pulmão</td>\n",
       "      <td>Não</td>\n",
       "    </tr>\n",
       "  </tbody>\n",
       "</table>\n",
       "</div>"
      ]
     },
     "metadata": {
      "application/vnd.databricks.v1+output": {
       "addedWidgets": {},
       "arguments": {},
       "data": "<div>\n<style scoped>\n    .dataframe tbody tr th:only-of-type {\n        vertical-align: middle;\n    }\n\n    .dataframe tbody tr th {\n        vertical-align: top;\n    }\n\n    .dataframe thead th {\n        text-align: right;\n    }\n</style>\n<table border=\"1\" class=\"dataframe\">\n  <thead>\n    <tr style=\"text-align: right;\">\n      <th></th>\n      <th>Nome</th>\n      <th>Status</th>\n      <th>Idade</th>\n      <th>Sexo</th>\n      <th>Histórico Familiar</th>\n      <th>Câncer</th>\n      <th>Histórico pessoal</th>\n    </tr>\n  </thead>\n  <tbody>\n    <tr>\n      <th>0</th>\n      <td>Pedro Oliveira</td>\n      <td>T</td>\n      <td>25</td>\n      <td>Masculino</td>\n      <td>Sim</td>\n      <td>Leucemia</td>\n      <td>Sim</td>\n    </tr>\n    <tr>\n      <th>1</th>\n      <td>Javier Hernandez</td>\n      <td>N</td>\n      <td>37</td>\n      <td>Masculino</td>\n      <td>Não</td>\n      <td>Câncer de mama</td>\n      <td>Não</td>\n    </tr>\n    <tr>\n      <th>2</th>\n      <td>Sergei Ivanov</td>\n      <td>M</td>\n      <td>18</td>\n      <td>Masculino</td>\n      <td>Sim</td>\n      <td>Câncer de próstata</td>\n      <td>Sim</td>\n    </tr>\n    <tr>\n      <th>3</th>\n      <td>Raphael Dupont</td>\n      <td>T</td>\n      <td>42</td>\n      <td>Masculino</td>\n      <td>Não</td>\n      <td>Câncer de fígado</td>\n      <td>Não</td>\n    </tr>\n    <tr>\n      <th>4</th>\n      <td>Ricardo Santos</td>\n      <td>N</td>\n      <td>56</td>\n      <td>Masculino</td>\n      <td>Não</td>\n      <td>Câncer de pulmão</td>\n      <td>Não</td>\n    </tr>\n  </tbody>\n</table>\n</div>",
       "datasetInfos": [],
       "metadata": {},
       "removedWidgets": [],
       "textData": null,
       "type": "htmlSandbox"
      }
     },
     "output_type": "display_data"
    }
   ],
   "source": [
    "base_dummies.head()"
   ]
  },
  {
   "cell_type": "code",
   "execution_count": null,
   "metadata": {
    "application/vnd.databricks.v1+cell": {
     "cellMetadata": {
      "byteLimit": 2048000,
      "rowLimit": 10000
     },
     "inputWidgets": {},
     "nuid": "c3ca6c08-80ed-4805-9730-6060156a00b5",
     "showTitle": false,
     "title": ""
    }
   },
   "outputs": [
    {
     "name": "stdout",
     "output_type": "stream",
     "text": [
      "<class 'pyspark.pandas.frame.DataFrame'>\n",
      "Int64Index: 270 entries, 0 to 269\n",
      "Data columns (total 7 columns):\n",
      " #   Column              Non-Null Count  Dtype \n",
      "---  ------              --------------  ----- \n",
      " 0   Nome                270 non-null    object\n",
      " 1   Status              270 non-null    object\n",
      " 2   Idade               270 non-null    int32 \n",
      " 3   Sexo                270 non-null    object\n",
      " 4   Histórico Familiar  270 non-null    object\n",
      " 5   Câncer              270 non-null    object\n",
      " 6   Histórico pessoal   270 non-null    object\n",
      "dtypes: int32(1), object(6)"
     ]
    }
   ],
   "source": [
    "base_dummies.info()"
   ]
  },
  {
   "cell_type": "code",
   "execution_count": null,
   "metadata": {
    "application/vnd.databricks.v1+cell": {
     "cellMetadata": {
      "byteLimit": 2048000,
      "rowLimit": 10000
     },
     "inputWidgets": {},
     "nuid": "eb45a88e-96bd-4930-bbf3-237d006889e4",
     "showTitle": false,
     "title": ""
    },
    "id": "v-lRS6DK5IBw"
   },
   "outputs": [
    {
     "name": "stdout",
     "output_type": "stream",
     "text": [
      "Out[10]: Index(['Nome', 'Status', 'Idade', 'Sexo', 'Histórico Familiar', 'Câncer',\n",
      "       'Histórico pessoal'],\n",
      "      dtype='object')"
     ]
    }
   ],
   "source": [
    "base_dummies.columns"
   ]
  },
  {
   "cell_type": "code",
   "execution_count": null,
   "metadata": {
    "application/vnd.databricks.v1+cell": {
     "cellMetadata": {
      "byteLimit": 2048000,
      "rowLimit": 10000
     },
     "inputWidgets": {},
     "nuid": "66cb091d-acda-4c85-b796-2996ded49596",
     "showTitle": false,
     "title": ""
    },
    "id": "430GS3oO5LRo"
   },
   "outputs": [],
   "source": [
    "base_dummies = base_dummies.drop('Nome', axis=1)"
   ]
  },
  {
   "cell_type": "code",
   "execution_count": null,
   "metadata": {
    "application/vnd.databricks.v1+cell": {
     "cellMetadata": {
      "byteLimit": 2048000,
      "rowLimit": 10000
     },
     "inputWidgets": {},
     "nuid": "ad95e529-c760-4280-9bf3-9af515e88da3",
     "showTitle": false,
     "title": ""
    },
    "id": "FHWu9dG25NEw"
   },
   "outputs": [
    {
     "name": "stdout",
     "output_type": "stream",
     "text": [
      "Out[12]: pyspark.pandas.frame.DataFrame"
     ]
    }
   ],
   "source": [
    "type(base_dummies)"
   ]
  },
  {
   "cell_type": "code",
   "execution_count": null,
   "metadata": {
    "application/vnd.databricks.v1+cell": {
     "cellMetadata": {
      "byteLimit": 2048000,
      "rowLimit": 10000
     },
     "inputWidgets": {},
     "nuid": "cc8faf8d-a2c4-437f-a5fa-d78d66de9b86",
     "showTitle": false,
     "title": ""
    },
    "id": "d5fE2hF85eGB"
   },
   "outputs": [],
   "source": [
    "X_dummies = base_dummies.iloc[:, 1:].values"
   ]
  },
  {
   "cell_type": "code",
   "execution_count": null,
   "metadata": {
    "application/vnd.databricks.v1+cell": {
     "cellMetadata": {},
     "inputWidgets": {},
     "nuid": "8ece266a-9a67-4839-beee-85e9df75b6ad",
     "showTitle": false,
     "title": ""
    },
    "id": "2wNKleKz5eiB"
   },
   "outputs": [],
   "source": [
    "# X_dummies"
   ]
  },
  {
   "cell_type": "code",
   "execution_count": null,
   "metadata": {
    "application/vnd.databricks.v1+cell": {
     "cellMetadata": {},
     "inputWidgets": {},
     "nuid": "0f6a01f4-ff9a-4c49-9e29-4ddb3355804e",
     "showTitle": false,
     "title": ""
    },
    "id": "gS8NJbiz3OFX"
   },
   "outputs": [],
   "source": [
    "# X_dummies = X_dummies.reshape(1350, -1)"
   ]
  },
  {
   "cell_type": "code",
   "execution_count": null,
   "metadata": {
    "application/vnd.databricks.v1+cell": {
     "cellMetadata": {},
     "inputWidgets": {},
     "nuid": "7a1b6b22-ebc3-489d-ab22-7f24096eadf5",
     "showTitle": false,
     "title": ""
    },
    "id": "UZecoNafBqiZ"
   },
   "outputs": [],
   "source": [
    "# X_dummies = X_dummies.reshape(-1)"
   ]
  },
  {
   "cell_type": "code",
   "execution_count": null,
   "metadata": {
    "application/vnd.databricks.v1+cell": {
     "cellMetadata": {
      "byteLimit": 2048000,
      "rowLimit": 10000
     },
     "inputWidgets": {},
     "nuid": "a638b146-4648-4175-bb40-7086366184b1",
     "showTitle": false,
     "title": ""
    },
    "id": "6POxwpJC5gHw"
   },
   "outputs": [],
   "source": [
    "y_dummies = base_dummies.iloc[:, 0].values"
   ]
  },
  {
   "cell_type": "code",
   "execution_count": null,
   "metadata": {
    "application/vnd.databricks.v1+cell": {
     "cellMetadata": {
      "byteLimit": 2048000,
      "rowLimit": 10000
     },
     "inputWidgets": {},
     "nuid": "ed83f8c3-158a-465e-a1c2-9d1db87b9d69",
     "showTitle": false,
     "title": ""
    },
    "colab": {
     "base_uri": "https://localhost:8080/"
    },
    "id": "5A5w-l975pjo",
    "outputId": "e7e2971f-7a10-44fd-95fc-ff3c2c11e1ba"
   },
   "outputs": [
    {
     "name": "stdout",
     "output_type": "stream",
     "text": [
      "Out[15]: array(['T', 'N', 'M', 'T', 'N', 'M', 'T', 'N', 'M', 'T', 'N', 'M', 'T',\n",
      "       'N', 'M', 'T', 'N', 'M', 'T', 'N', 'M', 'T', 'N', 'M', 'T', 'N',\n",
      "       'M', 'T', 'N', 'M', 'T', 'N', 'M', 'T', 'N', 'M', 'T', 'N', 'M',\n",
      "       'T', 'N', 'M', 'T', 'N', 'M', 'T', 'N', 'M', 'T', 'N', 'M', 'T',\n",
      "       'N', 'M', 'T', 'N', 'M', 'T', 'N', 'M', 'T', 'N', 'M', 'T', 'N',\n",
      "       'M', 'T', 'N', 'M', 'T', 'N', 'M', 'T', 'N', 'M', 'T', 'N', 'M',\n",
      "       'T', 'N', 'M', 'T', 'N', 'M', 'T', 'N', 'M', 'T', 'N', 'M', 'T',\n",
      "       'N', 'M', 'T', 'N', 'M', 'T', 'N', 'M', 'T', 'N', 'M', 'T', 'N',\n",
      "       'M', 'T', 'N', 'M', 'T', 'N', 'M', 'T', 'N', 'M', 'T', 'N', 'M',\n",
      "       'T', 'N', 'M', 'T', 'N', 'M', 'T', 'N', 'M', 'T', 'N', 'M', 'T',\n",
      "       'N', 'M', 'T', 'N', 'M', 'T', 'N', 'M', 'T', 'N', 'M', 'T', 'N',\n",
      "       'M', 'T', 'N', 'M', 'T', 'N', 'M', 'T', 'N', 'M', 'T', 'N', 'M',\n",
      "       'T', 'N', 'M', 'T', 'N', 'M', 'T', 'N', 'M', 'T', 'N', 'M', 'T',\n",
      "       'N', 'M', 'T', 'N', 'M', 'T', 'N', 'M', 'T', 'N', 'M', 'T', 'N',\n",
      "       'M', 'T', 'N', 'M', 'T', 'N', 'M', 'T', 'N', 'M', 'T', 'N', 'M',\n",
      "       'T', 'N', 'M', 'T', 'N', 'M', 'T', 'N', 'M', 'T', 'N', 'M', 'T',\n",
      "       'N', 'M', 'T', 'N', 'M', 'T', 'N', 'M', 'T', 'N', 'M', 'T', 'N',\n",
      "       'M', 'T', 'N', 'M', 'T', 'N', 'M', 'T', 'N', 'M', 'T', 'N', 'M',\n",
      "       'T', 'N', 'M', 'T', 'N', 'M', 'T', 'N', 'M', 'T', 'N', 'M', 'T',\n",
      "       'N', 'M', 'T', 'N', 'M', 'T', 'N', 'M', 'T', 'N', 'M', 'T', 'N',\n",
      "       'M', 'T', 'N', 'M', 'T', 'N', 'M', 'T', 'N', 'M'], dtype=object)"
     ]
    }
   ],
   "source": [
    "y_dummies"
   ]
  },
  {
   "cell_type": "code",
   "execution_count": null,
   "metadata": {
    "application/vnd.databricks.v1+cell": {
     "cellMetadata": {},
     "inputWidgets": {},
     "nuid": "0883ab98-12f9-4ddf-ba73-6d599507bafb",
     "showTitle": false,
     "title": ""
    },
    "id": "LOUFlFF_5Rm3"
   },
   "outputs": [],
   "source": [
    "# y_dummies = y_dummies.reshape(1, -1)"
   ]
  },
  {
   "cell_type": "code",
   "execution_count": null,
   "metadata": {
    "application/vnd.databricks.v1+cell": {
     "cellMetadata": {
      "byteLimit": 2048000,
      "rowLimit": 10000
     },
     "inputWidgets": {},
     "nuid": "a37fe58c-5841-407c-881f-48c221e74852",
     "showTitle": false,
     "title": ""
    },
    "id": "3X-9iaYK5uSY"
   },
   "outputs": [],
   "source": [
    "from sklearn.preprocessing import LabelEncoder\n",
    "label_encoder_diagnosis = LabelEncoder()"
   ]
  },
  {
   "cell_type": "code",
   "execution_count": null,
   "metadata": {
    "application/vnd.databricks.v1+cell": {
     "cellMetadata": {
      "byteLimit": 2048000,
      "rowLimit": 10000
     },
     "inputWidgets": {},
     "nuid": "11cf0967-9d6c-474d-ab15-39394d20a566",
     "showTitle": false,
     "title": ""
    },
    "id": "VazKvJKa6StY"
   },
   "outputs": [],
   "source": [
    "y_dummies = label_encoder_diagnosis.fit_transform(y_dummies)"
   ]
  },
  {
   "cell_type": "code",
   "execution_count": null,
   "metadata": {
    "application/vnd.databricks.v1+cell": {
     "cellMetadata": {
      "byteLimit": 2048000,
      "rowLimit": 10000
     },
     "inputWidgets": {},
     "nuid": "dfff4dd2-6e9e-4278-9f40-5d8f9463899e",
     "showTitle": false,
     "title": ""
    },
    "colab": {
     "base_uri": "https://localhost:8080/"
    },
    "id": "xbGlhWMX8L5A",
    "outputId": "0c5e8246-cd9f-4d3b-8866-a3cb27d092c9"
   },
   "outputs": [
    {
     "name": "stdout",
     "output_type": "stream",
     "text": [
      "Out[13]: array([2, 1, 0, 2, 1, 0, 2, 1, 0, 2, 1, 0, 2, 1, 0, 2, 1, 0, 2, 1, 0, 2,\n",
      "       1, 0, 2, 1, 0, 2, 1, 0, 2, 1, 0, 2, 1, 0, 2, 1, 0, 2, 1, 0, 2, 1,\n",
      "       0, 2, 1, 0, 2, 1, 0, 2, 1, 0, 2, 1, 0, 2, 1, 0, 2, 1, 0, 2, 1, 0,\n",
      "       2, 1, 0, 2, 1, 0, 2, 1, 0, 2, 1, 0, 2, 1, 0, 2, 1, 0, 2, 1, 0, 2,\n",
      "       1, 0, 2, 1, 0, 2, 1, 0, 2, 1, 0, 2, 1, 0, 2, 1, 0, 2, 1, 0, 2, 1,\n",
      "       0, 2, 1, 0, 2, 1, 0, 2, 1, 0, 2, 1, 0, 2, 1, 0, 2, 1, 0, 2, 1, 0,\n",
      "       2, 1, 0, 2, 1, 0, 2, 1, 0, 2, 1, 0, 2, 1, 0, 2, 1, 0, 2, 1, 0, 2,\n",
      "       1, 0, 2, 1, 0, 2, 1, 0, 2, 1, 0, 2, 1, 0, 2, 1, 0, 2, 1, 0, 2, 1,\n",
      "       0, 2, 1, 0, 2, 1, 0, 2, 1, 0, 2, 1, 0, 2, 1, 0, 2, 1, 0, 2, 1, 0,\n",
      "       2, 1, 0, 2, 1, 0, 2, 1, 0, 2, 1, 0, 2, 1, 0, 2, 1, 0, 2, 1, 0, 2,\n",
      "       1, 0, 2, 1, 0, 2, 1, 0, 2, 1, 0, 2, 1, 0, 2, 1, 0, 2, 1, 0, 2, 1,\n",
      "       0, 2, 1, 0, 2, 1, 0, 2, 1, 0, 2, 1, 0, 2, 1, 0, 2, 1, 0, 2, 1, 0,\n",
      "       2, 1, 0, 2, 1, 0])"
     ]
    }
   ],
   "source": [
    "y_dummies"
   ]
  },
  {
   "cell_type": "code",
   "execution_count": null,
   "metadata": {
    "application/vnd.databricks.v1+cell": {
     "cellMetadata": {
      "byteLimit": 2048000,
      "rowLimit": 10000
     },
     "inputWidgets": {},
     "nuid": "d0a5f972-e550-4f10-bbc0-f5ca89f929e3",
     "showTitle": false,
     "title": ""
    },
    "id": "ye4hq2ZsG_9x"
   },
   "outputs": [
    {
     "name": "stdout",
     "output_type": "stream",
     "text": [
      "Out[18]: (270, 5)"
     ]
    }
   ],
   "source": [
    "X_dummies.shape"
   ]
  },
  {
   "cell_type": "code",
   "execution_count": null,
   "metadata": {
    "application/vnd.databricks.v1+cell": {
     "cellMetadata": {},
     "inputWidgets": {},
     "nuid": "fa015590-94b6-4e8c-ab09-cd6966aee48d",
     "showTitle": false,
     "title": ""
    },
    "id": "-m5aqg8AHI_Y"
   },
   "outputs": [],
   "source": [
    "# X_dummies = X_dummies.flatten()  # Transformando array (270, 5) em array 1d array"
   ]
  },
  {
   "cell_type": "code",
   "execution_count": null,
   "metadata": {
    "application/vnd.databricks.v1+cell": {
     "cellMetadata": {},
     "inputWidgets": {},
     "nuid": "a589210c-3ea4-4980-9ba8-2036cad73c25",
     "showTitle": false,
     "title": ""
    },
    "id": "A7DKvnkOISSY"
   },
   "outputs": [],
   "source": [
    "# X_dummies.reshape(1, -1)"
   ]
  },
  {
   "cell_type": "code",
   "execution_count": null,
   "metadata": {
    "application/vnd.databricks.v1+cell": {
     "cellMetadata": {
      "byteLimit": 2048000,
      "rowLimit": 10000
     },
     "inputWidgets": {},
     "nuid": "93d480ad-2e1b-47b4-8a8a-e94cbf806e30",
     "showTitle": false,
     "title": ""
    },
    "id": "Zpn7SLBkIIW5"
   },
   "outputs": [],
   "source": [
    "from sklearn.preprocessing import OneHotEncoder\n",
    "one_encoder_diagnosis = OneHotEncoder()"
   ]
  },
  {
   "cell_type": "code",
   "execution_count": null,
   "metadata": {
    "application/vnd.databricks.v1+cell": {
     "cellMetadata": {
      "byteLimit": 2048000,
      "rowLimit": 10000
     },
     "inputWidgets": {},
     "nuid": "958d2d8d-bd76-4d05-abb6-8b02921eb1ca",
     "showTitle": false,
     "title": ""
    },
    "id": "iOJDgSbSGhTZ"
   },
   "outputs": [],
   "source": [
    "X_dummies = one_encoder_diagnosis.fit_transform(X_dummies)"
   ]
  },
  {
   "cell_type": "code",
   "execution_count": null,
   "metadata": {
    "application/vnd.databricks.v1+cell": {
     "cellMetadata": {},
     "inputWidgets": {},
     "nuid": "67bff3d2-8b69-4122-b70c-7a509f648f9c",
     "showTitle": false,
     "title": ""
    },
    "id": "abOJM6CfGh2Y"
   },
   "outputs": [],
   "source": [
    "# X_dummies"
   ]
  },
  {
   "cell_type": "code",
   "execution_count": null,
   "metadata": {
    "application/vnd.databricks.v1+cell": {
     "cellMetadata": {
      "byteLimit": 2048000,
      "rowLimit": 10000
     },
     "inputWidgets": {},
     "nuid": "1fa7a670-d08b-4714-b073-84c9cd2303dc",
     "showTitle": false,
     "title": ""
    },
    "id": "DTFloelb5sco"
   },
   "outputs": [],
   "source": [
    "from sklearn.preprocessing import StandardScaler\n",
    "scaler_cancer = StandardScaler(with_mean=False)"
   ]
  },
  {
   "cell_type": "code",
   "execution_count": null,
   "metadata": {
    "application/vnd.databricks.v1+cell": {
     "cellMetadata": {
      "byteLimit": 2048000,
      "rowLimit": 10000
     },
     "inputWidgets": {},
     "nuid": "ede89ecf-3564-47f7-9b0e-ab8e284d945a",
     "showTitle": false,
     "title": ""
    },
    "id": "XT3n-dSF5wBA"
   },
   "outputs": [],
   "source": [
    "X_dummies = scaler_cancer.fit_transform(X_dummies)"
   ]
  },
  {
   "cell_type": "code",
   "execution_count": null,
   "metadata": {
    "application/vnd.databricks.v1+cell": {
     "cellMetadata": {},
     "inputWidgets": {},
     "nuid": "235fb3c5-bedb-4d50-b681-86b82eee98eb",
     "showTitle": false,
     "title": ""
    },
    "id": "3WbTbf4W5xdJ"
   },
   "outputs": [],
   "source": [
    "# X_dummies"
   ]
  },
  {
   "cell_type": "code",
   "execution_count": null,
   "metadata": {
    "application/vnd.databricks.v1+cell": {
     "cellMetadata": {
      "byteLimit": 2048000,
      "rowLimit": 10000
     },
     "inputWidgets": {},
     "nuid": "bc5892ab-97f6-4a95-bdf8-97dfcb0798bc",
     "showTitle": false,
     "title": ""
    },
    "id": "ZDBllco857Yo"
   },
   "outputs": [],
   "source": [
    "from sklearn.model_selection import train_test_split"
   ]
  },
  {
   "cell_type": "code",
   "execution_count": null,
   "metadata": {
    "application/vnd.databricks.v1+cell": {
     "cellMetadata": {
      "byteLimit": 2048000,
      "rowLimit": 10000
     },
     "inputWidgets": {},
     "nuid": "f9723a0a-5a4b-4df3-837b-f8cdba7a0ccb",
     "showTitle": false,
     "title": ""
    },
    "id": "H7n8DzV357yI"
   },
   "outputs": [],
   "source": [
    "X_dummies_treinamento, X_dummies_teste, y_dummies_treinamento, y_dummies_teste = train_test_split(X_dummies, y_dummies, test_size = 0.25, random_state = 0)"
   ]
  },
  {
   "cell_type": "code",
   "execution_count": null,
   "metadata": {
    "application/vnd.databricks.v1+cell": {
     "cellMetadata": {
      "byteLimit": 2048000,
      "rowLimit": 10000
     },
     "inputWidgets": {},
     "nuid": "8d5d777e-5163-4bb7-8f1b-c8b3a79e7706",
     "showTitle": false,
     "title": ""
    },
    "id": "0mLnYiJ059LY"
   },
   "outputs": [
    {
     "name": "stdout",
     "output_type": "stream",
     "text": [
      "Out[26]: ((202, 281), (202,))"
     ]
    }
   ],
   "source": [
    "X_dummies_treinamento.shape, y_dummies_treinamento.shape"
   ]
  },
  {
   "cell_type": "code",
   "execution_count": null,
   "metadata": {
    "application/vnd.databricks.v1+cell": {
     "cellMetadata": {
      "byteLimit": 2048000,
      "rowLimit": 10000
     },
     "inputWidgets": {},
     "nuid": "385eed3f-afa3-40ae-8950-b4f19e5f39d7",
     "showTitle": false,
     "title": ""
    },
    "id": "VL9H27s25_U5"
   },
   "outputs": [
    {
     "name": "stdout",
     "output_type": "stream",
     "text": [
      "Out[27]: ((68, 281), (68,))"
     ]
    }
   ],
   "source": [
    "X_dummies_teste.shape, y_dummies_teste.shape"
   ]
  },
  {
   "cell_type": "code",
   "execution_count": null,
   "metadata": {
    "application/vnd.databricks.v1+cell": {
     "cellMetadata": {
      "byteLimit": 2048000,
      "rowLimit": 10000
     },
     "inputWidgets": {},
     "nuid": "c7c8d6b8-fbd1-4318-8e05-2b6002511c2f",
     "showTitle": false,
     "title": ""
    },
    "id": "eLvySo6h6AuR"
   },
   "outputs": [],
   "source": [
    "import pickle"
   ]
  },
  {
   "cell_type": "code",
   "execution_count": null,
   "metadata": {
    "application/vnd.databricks.v1+cell": {
     "cellMetadata": {
      "byteLimit": 2048000,
      "rowLimit": 10000
     },
     "inputWidgets": {},
     "nuid": "14a2c25a-cdb5-40c5-9fe2-74dbe2dfbbaa",
     "showTitle": false,
     "title": ""
    },
    "id": "BAtwfDPf6B9h"
   },
   "outputs": [],
   "source": [
    "with open('dummies.pkl', mode = 'wb') as f:\n",
    "  pickle.dump([X_dummies_treinamento, X_dummies_teste, y_dummies_treinamento, y_dummies_teste], f)"
   ]
  },
  {
   "cell_type": "markdown",
   "metadata": {
    "application/vnd.databricks.v1+cell": {
     "cellMetadata": {},
     "inputWidgets": {},
     "nuid": "e68924e1-38f5-4f9e-9feb-e5a5de4496c3",
     "showTitle": false,
     "title": ""
    },
    "id": "HFdbRomQTLKR"
   },
   "source": [
    "##Naïve Bayes"
   ]
  },
  {
   "cell_type": "code",
   "execution_count": null,
   "metadata": {
    "application/vnd.databricks.v1+cell": {
     "cellMetadata": {
      "byteLimit": 2048000,
      "rowLimit": 10000
     },
     "inputWidgets": {},
     "nuid": "c4a2003d-85f7-4c4c-b78b-974148084a5f",
     "showTitle": false,
     "title": ""
    },
    "id": "C3BXXcblTV6Z"
   },
   "outputs": [],
   "source": [
    "from sklearn.naive_bayes import GaussianNB"
   ]
  },
  {
   "cell_type": "code",
   "execution_count": null,
   "metadata": {
    "application/vnd.databricks.v1+cell": {
     "cellMetadata": {
      "byteLimit": 2048000,
      "rowLimit": 10000
     },
     "inputWidgets": {},
     "nuid": "6e9d5e36-4fed-4ce8-b1c7-8c1bbde912ae",
     "showTitle": false,
     "title": ""
    },
    "id": "RbTb5EKSTaFB"
   },
   "outputs": [],
   "source": [
    "with open('dummies.pkl', 'rb') as f:\n",
    "  X_dummies_treinamento, X_dummies_teste, y_dummies_treinamento, y_dummies_teste = pickle.load(f)"
   ]
  },
  {
   "cell_type": "code",
   "execution_count": null,
   "metadata": {
    "application/vnd.databricks.v1+cell": {
     "cellMetadata": {
      "byteLimit": 2048000,
      "rowLimit": 10000
     },
     "inputWidgets": {},
     "nuid": "6c2c934a-6834-4720-a266-ace951b589c5",
     "showTitle": false,
     "title": ""
    },
    "colab": {
     "base_uri": "https://localhost:8080/"
    },
    "id": "jIZSde2BTdDp",
    "outputId": "0fa95da4-cb4f-4799-b6e9-7320944f3d06"
   },
   "outputs": [
    {
     "name": "stdout",
     "output_type": "stream",
     "text": [
      "Out[32]: array([1, 1, 2, 1, 1, 2, 1, 0, 0, 2, 2, 0, 0, 1, 0, 0, 0, 0, 2, 2, 2, 0,\n",
      "       1, 0, 1, 1, 1, 0, 0, 0, 1, 2, 2, 0, 1, 0, 1, 0, 2, 2, 0, 0, 0, 0,\n",
      "       0, 2, 1, 2, 1, 1, 2, 1, 2, 0, 0, 0, 1, 1, 1, 1, 0, 0, 1, 0, 0, 0,\n",
      "       1, 1])"
     ]
    }
   ],
   "source": [
    "naive_dummie = GaussianNB()\n",
    "naive_dummie.fit(X_dummies_treinamento.toarray(), y_dummies_treinamento)\n",
    "previsoes = naive_dummie.predict(X_dummies_teste.toarray())\n",
    "previsoes"
   ]
  },
  {
   "cell_type": "code",
   "execution_count": null,
   "metadata": {
    "application/vnd.databricks.v1+cell": {
     "cellMetadata": {
      "byteLimit": 2048000,
      "rowLimit": 10000
     },
     "inputWidgets": {},
     "nuid": "b535aa58-c22b-4a06-bf88-377fba7caeb3",
     "showTitle": false,
     "title": ""
    },
    "id": "rnOGr4tST7qJ"
   },
   "outputs": [],
   "source": [
    "from sklearn.metrics import accuracy_score, confusion_matrix, classification_report"
   ]
  },
  {
   "cell_type": "code",
   "execution_count": null,
   "metadata": {
    "application/vnd.databricks.v1+cell": {
     "cellMetadata": {
      "byteLimit": 2048000,
      "rowLimit": 10000
     },
     "inputWidgets": {},
     "nuid": "360953d4-aa35-459b-97ce-132a6de7320f",
     "showTitle": false,
     "title": ""
    },
    "id": "IAIjCGdtT8bI"
   },
   "outputs": [
    {
     "name": "stdout",
     "output_type": "stream",
     "text": [
      "Out[34]: 0.35294117647058826"
     ]
    }
   ],
   "source": [
    "accuracy_score(y_dummies_teste, previsoes)"
   ]
  },
  {
   "cell_type": "code",
   "execution_count": null,
   "metadata": {
    "application/vnd.databricks.v1+cell": {
     "cellMetadata": {
      "byteLimit": 2048000,
      "rowLimit": 10000
     },
     "inputWidgets": {},
     "nuid": "9b475b11-604c-4219-91f8-bf0a65c69479",
     "showTitle": false,
     "title": ""
    },
    "id": "fx5iK6utT_hQ"
   },
   "outputs": [
    {
     "name": "stdout",
     "output_type": "stream",
     "text": [
      "Out[35]: array([[11,  6,  6],\n",
      "       [12,  7,  3],\n",
      "       [ 6, 11,  6]])"
     ]
    }
   ],
   "source": [
    "confusion_matrix(y_dummies_teste, previsoes)"
   ]
  },
  {
   "cell_type": "code",
   "execution_count": null,
   "metadata": {
    "application/vnd.databricks.v1+cell": {
     "cellMetadata": {
      "byteLimit": 2048000,
      "rowLimit": 10000
     },
     "inputWidgets": {},
     "nuid": "e31c8bab-02e7-4c1f-a4c0-bb61529633d3",
     "showTitle": false,
     "title": ""
    },
    "id": "AZATTgtYUESh"
   },
   "outputs": [],
   "source": [
    "from yellowbrick.classifier import ConfusionMatrix"
   ]
  },
  {
   "cell_type": "code",
   "execution_count": null,
   "metadata": {
    "application/vnd.databricks.v1+cell": {
     "cellMetadata": {
      "byteLimit": 2048000,
      "rowLimit": 10000
     },
     "inputWidgets": {},
     "nuid": "0511553c-f481-4035-a3e2-0a4d801cc1c6",
     "showTitle": false,
     "title": ""
    },
    "id": "rrK84C5ZUGGw"
   },
   "outputs": [
    {
     "name": "stdout",
     "output_type": "stream",
     "text": [
      "Out[37]: 0.35294117647058826"
     ]
    },
    {
     "name": "stderr",
     "output_type": "stream",
     "text": [
      "findfont: Font family ['sans-serif'] not found. Falling back to DejaVu Sans.\n",
      "findfont: Generic family 'sans-serif' not found because none of the following families were found: Arial, Liberation Sans, Bitstream Vera Sans, sans-serif\n"
     ]
    },
    {
     "data": {
      "image/png": "[encoded data removed]"
     },
     "metadata": {
      "application/vnd.databricks.v1+output": {
       "addedWidgets": {},
       "arguments": {},
       "data": "data:image/png;base64,iVBORw0KGgoAAAANSUhEUgAAAdsAAAFICAYAAAAYiFTZAAAAOXRFWHRTb2Z0d2FyZQBNYXRwbG90bGliIHZlcnNpb24zLjUuMSwgaHR0cHM6Ly9tYXRwbG90bGliLm9yZy/YYfK9AAAACXBIWXMAAAsTAAALEwEAmpwYAAAS5klEQVR4nO3ce5CVhZ3n4V/fhRaQXiNyFUdAR1DiqmzWiQHxkt2Jhpisk9RktGJtJikRBouErAJBcBwzqVRlJBCZjamxkmBJmU1SJJgojpaAmowjmoq4XBJGQhREWi4LDfT17B9m22VQaZP+9es5PE8VRff7Hvp8/zh1PrynT3dVqVQqBQCQprroAQBQ6cQWAJKJLQAkE1sASCa2AJCsNuOLdnV1RUtLS9TV1UVVVVXGXQDAe0apVIr29vZobGyM6upjr2NTYtvS0hJbtmzJ+NIA8J41bty4GDBgwDHHU2JbV1cXERFP/feFceS1PRl3wQlm1kuPR0RE17f/ouAlVILqzz4YER5P9J6OG5bHli1buvv376XE9v+9dHzktT1xeGdzxl1wgmloaIiIiK5W/3njj1ft8UQvq66vj4h422+deoMUACQTWwBIJrYAkExsASCZ2AJAMrEFgGRiCwDJxBYAkoktACQTWwBIJrYAkExsASCZ2AJAMrEFgGRiCwDJxBYAkoktACQTWwBIJrYAkExsASCZ2AJAMrEFgGRiCwDJxBYAkoktACQTWwBIJrYAkExsASCZ2AJAMrEFgGRiCwDJxBYAkoktACQTWwBIJrYAkExsASCZ2AJAMrEFgGRiCwDJxBYAkoktACQTWwBIJrZ95OKbPx1//a8/iHlHXohp932l+3h1XV1c9/3FMeulx+L20uY4Y/KkAldS7lY8vzvGf3V9DLjt6Rh717Ox7t/2Fz2JMucx1Ttqe3Kjffv2xbx58+Kpp56KwYMHx+zZs+Oaa67J3lZRDux4LdbeeU+M+fClUduv4ahz2598Ln5x93fjuu/fXcw4KsKjm/fGbQ9tiweuPzsmjRwQOw+0FT2JMucx1Xt6FNs77rgj6urq4qmnnoqNGzfG5z//+TjnnHNi7Nix2fsqxqYfPRoREcMuOi8GjhjSfbyrvT3+ZfF3IiKi1NlVyDYqw6JHtsf8K0fGB84YGBERwwc1HOdfwDvzmOo9x30Z+dChQ7F69eqYNWtWNDY2xkUXXRRTp06NlStX9sU+oAc6u0rx7MsHo/lge4y769kYdcczMfOHW+Nwe2fR0yhTHlO967ix3bZtW9TU1MSZZ57Zfeycc86J3/zmN6nDgJ7bdaAt2jtL8YNfvR5rZpwfz82+IH75ysH4u0d/V/Q0ypTHVO/q0ZXtySeffNSxAQMGREtLS9oo4N3pV1cTERE3f3BoDB1YH6eeXBe3TB4eP9u4t+BllCuPqd513Nj2798/Dh48eNSxgwcPRmNjY9oo4N0Z3L82Rgyqj6qqN49Vvf3N4bg8pnrXcWM7evTo6OzsjG3btnUf27RpU4wZMyZzV8WpqqmJmob6qK6p7v64quaN/znW1NdFTUP9MR/Du/GZSUPim0/ujNcOtMXeQx2xeO2O+Mi5TUXPoox5TPWe474buX///nHllVfGN77xjbjzzjtj48aN8dhjj8WKFSv6Yl/F+ND8m2LKwpndn0+8flo8sXBJrFm0NGZsfjhOGT0iIiKuX/1PERFx9+ipsf+3rxSylfI0/8qR0dzSHuf8/fo4qa46rpt4asy9YmTRsyhjHlO9p6pUKpWOd6N9+/bF3Llz4+mnn45TTjklvvCFL7zjz9m2trbGhg0b4rFr/iYO72zu1cGcmG4vbY6IiK6vX1rwEipB9ex1EeHxRO9pv/mfY8OGDTFhwoRoaDj2R6R69HO2p5xyStxzzz29Pg4ATgR+XSMAJBNbAEgmtgCQTGwBIJnYAkAysQWAZGILAMnEFgCSiS0AJBNbAEgmtgCQTGwBIJnYAkAysQWAZGILAMnEFgCSiS0AJBNbAEgmtgCQTGwBIJnYAkAysQWAZGILAMnEFgCSiS0AJBNbAEgmtgCQTGwBIJnYAkAysQWAZGILAMnEFgCSiS0AJBNbAEgmtgCQTGwBIJnYAkAysQWAZGILAMnEFgCSiS0AJBNbAEgmtgCQrDbzi983aE/sOrI78y44Qdz++7+rZ68rdAeVxeOJXtPa+o6nXdlSFpqamoqeAPAHS72yvXF/Uxze25V5F5wgFg/eHU1NTbH70qFFT6EC1Kx8MSIiSlv+R8FLqBhn3PGOp13ZAkAysQWAZGILAMnEFgCSiS0AJBNbAEgmtgCQTGwBIJnYAkAysQWAZGILAMnEFgCSiS0AJBNbAEgmtgCQTGwBIJnYAkAysQWAZGILAMnEFgCSiS0AJBNbAEgmtgCQTGwBIJnYAkAysQWAZGILAMnEFgCSiS0AJBNbAEgmtgCQTGwBIJnYAkAysQWAZGILAMnEFgCSiS0AJBNbAEgmtgCQTGwBIJnYAkAysQWAZLVFDzhRXHzzp+P9n/l4nHbeuNjwwKpYeeNtEREx/D9NjMv+dlYMu3B8dHV2xbYnnomH/+bOOPjq7oIXU04GPbTxqM8Pd5bipjMHx+Lzhha0iEpw/RdXxWO/+G20HGqP09/XGHM+Oyk+e93EomeVJbHtIwd2vBZr77wnxnz40qjt19B9vN/gQfHctx6MBx9ZF10dnfHnSxfEtPu+Evf/188WuJZys/8jf9r98cGOrhj+yOb4xLCBBS6iEtz6+Q/Et+/6L9FQXxubtr4el92wIi740yFx4YTTi55Wdnr0MvLy5cvj4x//eEyYMCFuvfXW7E0VadOPHo3NKx+LQ6/vO+r4bx5eG//7fz0cbQdaouPwkXhm6fIY+Wf/sZiRVIQf7vg/cVpDbVza1L/oKZS58WNPjYb6N67Jqqre+LN1+75iR5WpHl3ZnnbaaTF9+vRYt25dtLa2Zm86oZ3xoYtj94u/LnoGZey7L++LvxoxKKqqqoqeQgWYvnB1fOdHG+LwkY644NzT4s8n/0nRk8pSj2J71VVXRUTECy+8ELt27UoddCI77byzY/KC6bFi2vSip1CmfnuoLdY2H4p7Jw4regoV4p6FV8WSL18RP39+RzzxzPZoqK8pelJZ8m7k94jBZ42KT//s3nh41l2x/cn1Rc+hTC1/eX/82X/oH2c21hc9hQpSU1MdH7xoRLz86oFY9sAvi55TlsT2PWDQqGFxwz/fF2v/9p741fKVRc+hjC3/3f64YeSgomdQoTo6u3zP9g8ktn2kqqYmahrqo7qmuvvjqpqaGDDstLjh8e/EM0vvj/X/c0XRMyljT+85FK8caY//5l3I9ILXXm+JFQ9tjIMtbdHZ2RWPrHspVjy0KS7/z6OKnlaW/OhPH/nQ/JtiysKZ3Z9PvH5aPLFwSUSpFE1njYopC2fElIUzus9/ZYB3JPPufO93++LaoQNjQK3vqfHHq6qqin984Pm46fbV0dVVijOGD4x/mDs1Pnr52KKnlaUexbajoyM6Ozujq6srOjs7o7W1NWpqaqK2Vqt7as2ipbFm0dK3PnfHN/t4DZVomTdF0Yve19Q/nlj+l0XPqBg9ehl52bJlcf7558e3vvWt+PGPfxznn39+LFu2LHsbAFSEHl2azpw5M2bOnHn8GwIAx/AGKQBIJrYAkExsASCZ2AJAMrEFgGRiCwDJxBYAkoktACQTWwBIJrYAkExsASCZ2AJAMrEFgGRiCwDJxBYAkoktACQTWwBIJrYAkExsASCZ2AJAMrEFgGRiCwDJxBYAkoktACQTWwBIJrYAkExsASCZ2AJAMrEFgGRiCwDJxBYAkoktACQTWwBIJrYAkExsASCZ2AJAMrEFgGRiCwDJxBYAkoktACQTWwBIJrYAkExsASBZbeYXn/XS49HQ0JB5F5wgFjc1RUTE+9btLHgJlWDP7/+uGvfVQndQQVpb3/G0K1vKwp49e45/I+ihpt//5w36SuqVbde3/yK6Wj1J8sernr0u9uzZE4uqzi56ChVg8eDd0dTUFM3zxxc9hQrx/nubY/ny5W973pUtACQTWwBIJrYAkExsASCZ2AJAMrEFgGRiCwDJxBYAkoktACQTWwBIJrYAkExsASCZ2AJAMrEFgGRiCwDJxBYAkoktACQTWwBIJrYAkExsASCZ2AJAMrEFgGRiCwDJxBYAkoktACQTWwBIJrYAkExsASCZ2AJAMrEFgGRiCwDJxBYAkoktACQTWwBIJrYAkExsASCZ2AJAMrEFgGRiCwDJxBYAkoktACQTWwBIJrYFWvH87hj/1fUx4LanY+xdz8a6f9tf9CTKyMU3fzr++l9/EPOOvBDT7vtK9/Hqurq47vuLY9ZLj8Xtpc1xxuRJBa6k3Hme6h21x7tBW1tbLFy4MH7+85/Hvn37YtSoUTF79uyYPHlyX+yrWI9u3hu3PbQtHrj+7Jg0ckDsPNBW9CTKzIEdr8XaO++JMR++NGr7NRx1bvuTz8Uv7v5uXPf9u4sZR0XwPNV7jhvbjo6OGDp0aHzve9+LYcOGxZo1a+KWW26Jn/zkJzFixIi+2FiRFj2yPeZfOTI+cMbAiIgYPqjhOP8CjrbpR49GRMSwi86LgSOGdB/vam+Pf1n8nYiIKHV2FbKNyuB5qvcc92Xk/v37x8yZM2PEiBFRXV0dl112WYwYMSJefPHFvthXkTq7SvHsywej+WB7jLvr2Rh1xzMx84db43B7Z9HTACLC81Rve9ffs21ubo5t27bFmDFjMvacEHYdaIv2zlL84Fevx5oZ58dzsy+IX75yMP7u0d8VPQ0gIjxP9bZ3Fdv29vb44he/GNdee22cddZZWZsqXr+6moiIuPmDQ2PowPo49eS6uGXy8PjZxr0FLwN4g+ep3tXj2HZ1dcWXvvSlqKuriy9/+cuZmyre4P61MWJQfVRVvXms6u1vDtDnPE/1rh7FtlQqxbx586K5uTmWLFkSdXV12bsq3mcmDYlvPrkzXjvQFnsPdcTitTviI+c2FT2LMlJVUxM1DfVRXVPd/XFVzRtXIzX1dVHTUH/Mx/BueJ7qPcd9N3JExO233x5bt26N++67L0466aTsTSeE+VeOjOaW9jjn79fHSXXVcd3EU2PuFSOLnkUZ+dD8m2LKwpndn0+8flo8sXBJrFm0NGZsfjhOGf3GTwtcv/qfIiLi7tFTY/9vXylkK+XJ81TvqSqVSqV3usErr7wSU6dOjfr6+qitfbPNixYtio9+9KNv+W9aW1tjw4YNce4v7oiG1j29u5gTUvXsdRERsajq7IKXUAkWD94dERHN88cXvIRKMf7e5li+fHlMmDAhGhqO/RGp417ZDh8+PDZv3pwyDgBOBH5dIwAkE1sASCa2AJBMbAEgmdgCQDKxBYBkYgsAycQWAJKJLQAkE1sASCa2AJBMbAEgmdgCQDKxBYBkYgsAycQWAJKJLQAkE1sASCa2AJBMbAEgmdgCQDKxBYBkYgsAycQWAJKJLQAkE1sASCa2AJBMbAEgmdgCQDKxBYBkYgsAycQWAJKJLQAkE1sASCa2AJBMbAEgmdgCQDKxBYBkYgsAycQWAJKJLQAkE1sASCa2AJCsNuOLlkqliIjouGF5VNfXZ9wFJ5rW1oiIuPXIrwoeQiVY8f73R0TE+Hubix1CxTj11FMj4s3+/XtVpbc780c4cOBAbNmypbe/LAC8p40bNy4GDBhwzPGU2HZ1dUVLS0vU1dVFVVVVb395AHhPKZVK0d7eHo2NjVFdfex3aFNiCwC8yRukACCZ2AJAMrEFgGRiCwDJxBYAkoktACRL+Q1SvLWtW7fGypUr49e//nW0tLREY2NjjB07NqZNmxZnnXVW0fMAYseOHfHiiy/GmDFj4swzzzzq3KpVq+Lqq68uaFl5c2XbR1atWhWf/OQn49VXX42LL744rrnmmpg0aVLs2rUrPvWpT8VPf/rToidSYTo7O2Pp0qVFz6CMrF27Nq6++upYsmRJfOxjH4uFCxdGZ2dn9/kFCxYUuK68+aUWfWTq1Knxta99LS688MJjzq1fvz7mzJkTjz/+eAHLqFRtbW0xceLE2LhxY9FTKBPXXnttzJo1K6ZMmRLNzc0xZ86cqK+vjyVLlkR9fX1ccMEF8fzzzxc9syx5GbmP7N27N8aPH/+W584999zYu3dvHy+iEtx2221ve+7/vyKBnti+fXtMmTIlIt74xfr33ntvzJkzJz73uc/FsmXLih1X5ryM3EcuueSSmDt3bmzfvv2o49u3b4/58+fHJZdcUtAyytmqVavipJNOiiFDhhzz5/TTTy96HmVm0KBBsXPnzu7Pa2tr4+tf/3oMHTo0brzxxujq6ipwXXnzMnIf2b9/fyxatChWr14ddXV10djYGC0tLdHR0RFXXXVVLFiwIAYNGlT0TMrMJz7xiZg+fXpcfvnlx5xrbW2NiRMnxqZNmwpYRjmaN29eDB06NGbMmHHMuQULFsSDDz7o8fQHEts+dvjw4di2bVv3u5FHjx4d/fr1K3oWZer++++PIUOGxBVXXHHMuc7Ozli2bNlbPnHCW2lra4vOzs63fU7asWNHDBs2rI9XVQaxBYBkvmcLAMnEFgCSiS0AJBNbAEgmtgCQ7P8Ct5GudlWFbwwAAAAASUVORK5CYII=\n",
       "datasetInfos": [],
       "metadata": {},
       "removedWidgets": [],
       "type": "image"
      }
     },
     "output_type": "display_data"
    }
   ],
   "source": [
    "cm = ConfusionMatrix(naive_dummie)\n",
    "cm.fit(X_dummies_treinamento, y_dummies_treinamento)\n",
    "cm.score(X_dummies_teste.toarray(), y_dummies_teste)"
   ]
  },
  {
   "cell_type": "markdown",
   "metadata": {
    "application/vnd.databricks.v1+cell": {
     "cellMetadata": {},
     "inputWidgets": {},
     "nuid": "ee041086-6072-4d87-ad3f-93f78b91be01",
     "showTitle": false,
     "title": ""
    },
    "id": "gmDseuOEUWm6"
   },
   "source": [
    "## Árvore de decisão"
   ]
  },
  {
   "cell_type": "code",
   "execution_count": null,
   "metadata": {
    "application/vnd.databricks.v1+cell": {
     "cellMetadata": {
      "byteLimit": 2048000,
      "rowLimit": 10000
     },
     "inputWidgets": {},
     "nuid": "72a20bf1-c056-4466-8beb-b6aba50f51be",
     "showTitle": false,
     "title": ""
    },
    "id": "1Qw_BHGyUYrh"
   },
   "outputs": [],
   "source": [
    "from sklearn.tree import DecisionTreeClassifier"
   ]
  },
  {
   "cell_type": "code",
   "execution_count": null,
   "metadata": {
    "application/vnd.databricks.v1+cell": {
     "cellMetadata": {
      "byteLimit": 2048000,
      "rowLimit": 10000
     },
     "inputWidgets": {},
     "nuid": "927150e7-ac9b-4f03-8f6b-1511a6c1736b",
     "showTitle": false,
     "title": ""
    },
    "id": "PKfhkl3fY3EF"
   },
   "outputs": [],
   "source": [
    "with open('dummies.pkl', 'rb') as f:\n",
    "  X_dummies_treinamento, X_dummies_teste, y_dummies_treinamento, y_dummies_teste = pickle.load(f)"
   ]
  },
  {
   "cell_type": "code",
   "execution_count": null,
   "metadata": {
    "application/vnd.databricks.v1+cell": {
     "cellMetadata": {
      "byteLimit": 2048000,
      "rowLimit": 10000
     },
     "inputWidgets": {},
     "nuid": "617c662a-0af0-42b3-99da-0a72c5f1c12a",
     "showTitle": false,
     "title": ""
    },
    "id": "KHOKb7BdUbjx"
   },
   "outputs": [],
   "source": [
    "arvore_dummie = DecisionTreeClassifier(criterion='entropy', random_state=0)"
   ]
  },
  {
   "cell_type": "code",
   "execution_count": null,
   "metadata": {
    "application/vnd.databricks.v1+cell": {
     "cellMetadata": {
      "byteLimit": 2048000,
      "rowLimit": 10000
     },
     "inputWidgets": {},
     "nuid": "e59e08ae-fa0a-4821-a2e2-c7dba935ae7d",
     "showTitle": false,
     "title": ""
    },
    "id": "jlyX_khjUkxB"
   },
   "outputs": [
    {
     "name": "stdout",
     "output_type": "stream",
     "text": [
      "Out[41]: DecisionTreeClassifier(criterion='entropy', random_state=0)"
     ]
    }
   ],
   "source": [
    "arvore_dummie.fit(X_dummies_treinamento, y_dummies_treinamento)"
   ]
  },
  {
   "cell_type": "code",
   "execution_count": null,
   "metadata": {
    "application/vnd.databricks.v1+cell": {
     "cellMetadata": {
      "byteLimit": 2048000,
      "rowLimit": 10000
     },
     "inputWidgets": {},
     "nuid": "4c74d278-861d-4880-ba7e-d48fe8b3896c",
     "showTitle": false,
     "title": ""
    },
    "id": "DbuNUXRUUpxw"
   },
   "outputs": [
    {
     "name": "stdout",
     "output_type": "stream",
     "text": [
      "Out[42]: array([2, 2, 2, 2, 1, 2, 2, 0, 2, 2, 2, 2, 2, 1, 0, 2, 0, 2, 2, 2, 2, 1,\n",
      "       1, 2, 1, 2, 2, 2, 0, 2, 1, 2, 2, 0, 1, 2, 1, 0, 2, 2, 0, 2, 2, 2,\n",
      "       2, 2, 1, 2, 2, 1, 2, 2, 2, 0, 0, 2, 2, 2, 2, 2, 2, 2, 1, 2, 2, 2,\n",
      "       2, 1])"
     ]
    }
   ],
   "source": [
    "previsoes = arvore_dummie.predict(X_dummies_teste)\n",
    "previsoes"
   ]
  },
  {
   "cell_type": "code",
   "execution_count": null,
   "metadata": {
    "application/vnd.databricks.v1+cell": {
     "cellMetadata": {
      "byteLimit": 2048000,
      "rowLimit": 10000
     },
     "inputWidgets": {},
     "nuid": "64992736-28fb-4145-b80d-8e9a595420ee",
     "showTitle": false,
     "title": ""
    },
    "id": "x_BNcbhvUvOR"
   },
   "outputs": [
    {
     "name": "stdout",
     "output_type": "stream",
     "text": [
      "Out[43]: array([1, 2, 2, 2, 1, 2, 2, 2, 1, 2, 1, 1, 1, 1, 0, 1, 2, 1, 0, 2, 0, 1,\n",
      "       1, 1, 2, 0, 1, 1, 0, 0, 2, 0, 2, 0, 0, 1, 0, 2, 2, 0, 0, 2, 1, 0,\n",
      "       0, 1, 1, 0, 0, 2, 1, 2, 0, 0, 0, 1, 1, 0, 2, 2, 2, 0, 2, 2, 1, 0,\n",
      "       0, 2])"
     ]
    }
   ],
   "source": [
    "y_dummies_teste"
   ]
  },
  {
   "cell_type": "code",
   "execution_count": null,
   "metadata": {
    "application/vnd.databricks.v1+cell": {
     "cellMetadata": {
      "byteLimit": 2048000,
      "rowLimit": 10000
     },
     "inputWidgets": {},
     "nuid": "e3d30c9f-25b1-4f9d-b568-6425a3251549",
     "showTitle": false,
     "title": ""
    },
    "id": "k2XUC4i5Ux-7"
   },
   "outputs": [
    {
     "name": "stdout",
     "output_type": "stream",
     "text": [
      "Out[44]: 0.38235294117647056"
     ]
    }
   ],
   "source": [
    "accuracy_score(y_dummies_teste, previsoes)"
   ]
  },
  {
   "cell_type": "code",
   "execution_count": null,
   "metadata": {
    "application/vnd.databricks.v1+cell": {
     "cellMetadata": {
      "byteLimit": 2048000,
      "rowLimit": 10000
     },
     "inputWidgets": {},
     "nuid": "e841eaf9-79da-41fe-b113-874d20ba495d",
     "showTitle": false,
     "title": ""
    },
    "id": "yCKedF7mU2WR"
   },
   "outputs": [],
   "source": [
    "from yellowbrick.classifier import ConfusionMatrix"
   ]
  },
  {
   "cell_type": "code",
   "execution_count": null,
   "metadata": {
    "application/vnd.databricks.v1+cell": {
     "cellMetadata": {
      "byteLimit": 2048000,
      "rowLimit": 10000
     },
     "inputWidgets": {},
     "nuid": "668da84d-9370-4779-ae04-e874ae242461",
     "showTitle": false,
     "title": ""
    },
    "id": "v4nQ3EscU3Aw"
   },
   "outputs": [
    {
     "name": "stdout",
     "output_type": "stream",
     "text": [
      "Out[46]: 0.38235294117647056"
     ]
    },
    {
     "data": {
      "image/png": "[encoded data removed]"
     },
     "metadata": {
      "application/vnd.databricks.v1+output": {
       "addedWidgets": {},
       "arguments": {},
       "data": "data:image/png;base64,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\n",
       "datasetInfos": [],
       "metadata": {},
       "removedWidgets": [],
       "type": "image"
      }
     },
     "output_type": "display_data"
    }
   ],
   "source": [
    "cm = ConfusionMatrix(arvore_dummie)\n",
    "cm.fit(X_dummies_treinamento, y_dummies_treinamento)\n",
    "cm.score(X_dummies_teste.toarray(), y_dummies_teste)"
   ]
  },
  {
   "cell_type": "markdown",
   "metadata": {
    "application/vnd.databricks.v1+cell": {
     "cellMetadata": {},
     "inputWidgets": {},
     "nuid": "f280ce6c-d044-43d0-875b-3d5fe70ec93e",
     "showTitle": false,
     "title": ""
    },
    "id": "vmo9JXJtX8_H"
   },
   "source": [
    "## Random Forest"
   ]
  },
  {
   "cell_type": "code",
   "execution_count": null,
   "metadata": {
    "application/vnd.databricks.v1+cell": {
     "cellMetadata": {
      "byteLimit": 2048000,
      "rowLimit": 10000
     },
     "inputWidgets": {},
     "nuid": "8772095c-8b57-4e58-9f1a-e30d5c5982d0",
     "showTitle": false,
     "title": ""
    },
    "id": "NS-TePQYX-vm"
   },
   "outputs": [],
   "source": [
    "from sklearn.ensemble import RandomForestClassifier"
   ]
  },
  {
   "cell_type": "code",
   "execution_count": null,
   "metadata": {
    "application/vnd.databricks.v1+cell": {
     "cellMetadata": {
      "byteLimit": 2048000,
      "rowLimit": 10000
     },
     "inputWidgets": {},
     "nuid": "4c317cf4-92e4-4429-a397-9f7925df6adb",
     "showTitle": false,
     "title": ""
    },
    "id": "pf3noBh7Y1m-"
   },
   "outputs": [],
   "source": [
    "with open('dummies.pkl', 'rb') as f:\n",
    "  X_dummies_treinamento, X_dummies_teste, y_dummies_treinamento, y_dummies_teste = pickle.load(f)"
   ]
  },
  {
   "cell_type": "code",
   "execution_count": null,
   "metadata": {
    "application/vnd.databricks.v1+cell": {
     "cellMetadata": {
      "byteLimit": 2048000,
      "rowLimit": 10000
     },
     "inputWidgets": {},
     "nuid": "9032c0fe-ef18-4769-b392-c0140e01251a",
     "showTitle": false,
     "title": ""
    },
    "id": "d91e99dwYAXe"
   },
   "outputs": [],
   "source": [
    "random_forest_dummie = RandomForestClassifier(n_estimators=100, criterion='entropy', random_state = 0)"
   ]
  },
  {
   "cell_type": "code",
   "execution_count": null,
   "metadata": {
    "application/vnd.databricks.v1+cell": {
     "cellMetadata": {
      "byteLimit": 2048000,
      "rowLimit": 10000
     },
     "inputWidgets": {},
     "nuid": "79f44fa7-07ca-4693-8338-c5c76dc31edf",
     "showTitle": false,
     "title": ""
    },
    "id": "reHkKmeDYB82"
   },
   "outputs": [
    {
     "name": "stdout",
     "output_type": "stream",
     "text": [
      "Out[50]: RandomForestClassifier(criterion='entropy', random_state=0)"
     ]
    }
   ],
   "source": [
    "random_forest_dummie.fit(X_dummies_treinamento, y_dummies_treinamento)"
   ]
  },
  {
   "cell_type": "code",
   "execution_count": null,
   "metadata": {
    "application/vnd.databricks.v1+cell": {
     "cellMetadata": {
      "byteLimit": 2048000,
      "rowLimit": 10000
     },
     "inputWidgets": {},
     "nuid": "f7087419-7fbb-40d7-bdb0-2949298357d3",
     "showTitle": false,
     "title": ""
    },
    "id": "PsuOOtGdYLeW"
   },
   "outputs": [
    {
     "name": "stdout",
     "output_type": "stream",
     "text": [
      "Out[51]: array([2, 1, 2, 1, 1, 2, 1, 2, 2, 0, 2, 0, 0, 1, 0, 0, 2, 0, 2, 0, 2, 1,\n",
      "       1, 0, 0, 0, 1, 0, 0, 2, 1, 2, 2, 0, 1, 2, 1, 1, 2, 2, 0, 2, 0, 0,\n",
      "       2, 2, 1, 2, 0, 2, 2, 0, 2, 0, 0, 2, 2, 1, 2, 2, 2, 2, 1, 0, 0, 0,\n",
      "       2, 1])"
     ]
    }
   ],
   "source": [
    "previsoes = random_forest_dummie.predict(X_dummies_teste)\n",
    "previsoes"
   ]
  },
  {
   "cell_type": "code",
   "execution_count": null,
   "metadata": {
    "application/vnd.databricks.v1+cell": {
     "cellMetadata": {
      "byteLimit": 2048000,
      "rowLimit": 10000
     },
     "inputWidgets": {},
     "nuid": "8d1c392f-d5c3-4930-834f-55d89ca0bfa3",
     "showTitle": false,
     "title": ""
    },
    "id": "nv6dG7wJYRcG"
   },
   "outputs": [
    {
     "name": "stdout",
     "output_type": "stream",
     "text": [
      "Out[52]: array([1, 2, 2, 2, 1, 2, 2, 2, 1, 2, 1, 1, 1, 1, 0, 1, 2, 1, 0, 2, 0, 1,\n",
      "       1, 1, 2, 0, 1, 1, 0, 0, 2, 0, 2, 0, 0, 1, 0, 2, 2, 0, 0, 2, 1, 0,\n",
      "       0, 1, 1, 0, 0, 2, 1, 2, 0, 0, 0, 1, 1, 0, 2, 2, 2, 0, 2, 2, 1, 0,\n",
      "       0, 2])"
     ]
    }
   ],
   "source": [
    "y_dummies_teste"
   ]
  },
  {
   "cell_type": "code",
   "execution_count": null,
   "metadata": {
    "application/vnd.databricks.v1+cell": {
     "cellMetadata": {
      "byteLimit": 2048000,
      "rowLimit": 10000
     },
     "inputWidgets": {},
     "nuid": "ae5720f4-ce22-4cae-8c35-882d45326a48",
     "showTitle": false,
     "title": ""
    },
    "id": "ha67i2TkYVlG"
   },
   "outputs": [
    {
     "name": "stdout",
     "output_type": "stream",
     "text": [
      "Out[53]: 0.39705882352941174"
     ]
    }
   ],
   "source": [
    "accuracy_score(y_dummies_teste, previsoes)"
   ]
  },
  {
   "cell_type": "code",
   "execution_count": null,
   "metadata": {
    "application/vnd.databricks.v1+cell": {
     "cellMetadata": {
      "byteLimit": 2048000,
      "rowLimit": 10000
     },
     "inputWidgets": {},
     "nuid": "6f8da3ba-081c-49b4-accd-8513024c1ed0",
     "showTitle": false,
     "title": ""
    },
    "id": "YBenwbrCYaHd"
   },
   "outputs": [
    {
     "name": "stdout",
     "output_type": "stream",
     "text": [
      "Out[54]: 0.39705882352941174"
     ]
    },
    {
     "data": {
      "image/png": "[encoded data removed]"
     },
     "metadata": {
      "application/vnd.databricks.v1+output": {
       "addedWidgets": {},
       "arguments": {},
       "data": "data:image/png;base64,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\n",
       "datasetInfos": [],
       "metadata": {},
       "removedWidgets": [],
       "type": "image"
      }
     },
     "output_type": "display_data"
    }
   ],
   "source": [
    "cm = ConfusionMatrix(random_forest_dummie)\n",
    "cm.fit(X_dummies_treinamento, y_dummies_treinamento)\n",
    "cm.score(X_dummies_teste.toarray(), y_dummies_teste)"
   ]
  },
  {
   "cell_type": "markdown",
   "metadata": {
    "application/vnd.databricks.v1+cell": {
     "cellMetadata": {},
     "inputWidgets": {},
     "nuid": "afa9f023-746a-4b84-97c8-1290d9504145",
     "showTitle": false,
     "title": ""
    },
    "id": "zDxukRFMYmV_"
   },
   "source": [
    "##kNN"
   ]
  },
  {
   "cell_type": "code",
   "execution_count": null,
   "metadata": {
    "application/vnd.databricks.v1+cell": {
     "cellMetadata": {
      "byteLimit": 2048000,
      "rowLimit": 10000
     },
     "inputWidgets": {},
     "nuid": "899c7394-fb01-4cdb-9094-e8cf93cebba3",
     "showTitle": false,
     "title": ""
    },
    "id": "MMY9ixayYm_-"
   },
   "outputs": [],
   "source": [
    "from sklearn.neighbors import KNeighborsClassifier"
   ]
  },
  {
   "cell_type": "code",
   "execution_count": null,
   "metadata": {
    "application/vnd.databricks.v1+cell": {
     "cellMetadata": {
      "byteLimit": 2048000,
      "rowLimit": 10000
     },
     "inputWidgets": {},
     "nuid": "e6a193f0-b3e9-434c-bcf3-c33b2f5830e0",
     "showTitle": false,
     "title": ""
    },
    "id": "v0tCZy2iYpx-"
   },
   "outputs": [],
   "source": [
    "with open('dummies.pkl', 'rb') as f:\n",
    "  X_dummies_treinamento, X_dummies_teste, y_dummies_treinamento, y_dummies_teste = pickle.load(f)"
   ]
  },
  {
   "cell_type": "code",
   "execution_count": null,
   "metadata": {
    "application/vnd.databricks.v1+cell": {
     "cellMetadata": {
      "byteLimit": 2048000,
      "rowLimit": 10000
     },
     "inputWidgets": {},
     "nuid": "930ca414-4043-47fa-adac-4d3fdafc1595",
     "showTitle": false,
     "title": ""
    },
    "id": "XOnMfCxBY6Rl"
   },
   "outputs": [],
   "source": [
    "knn_dummie = KNeighborsClassifier(n_neighbors=10)"
   ]
  },
  {
   "cell_type": "code",
   "execution_count": null,
   "metadata": {
    "application/vnd.databricks.v1+cell": {
     "cellMetadata": {
      "byteLimit": 2048000,
      "rowLimit": 10000
     },
     "inputWidgets": {},
     "nuid": "f9562bd2-b91b-4bf6-9614-4db39bfdb87c",
     "showTitle": false,
     "title": ""
    },
    "id": "oxq1hFHgY9Ut"
   },
   "outputs": [
    {
     "name": "stdout",
     "output_type": "stream",
     "text": [
      "Out[58]: KNeighborsClassifier(n_neighbors=10)"
     ]
    }
   ],
   "source": [
    "knn_dummie.fit(X_dummies_treinamento, y_dummies_treinamento)"
   ]
  },
  {
   "cell_type": "code",
   "execution_count": null,
   "metadata": {
    "application/vnd.databricks.v1+cell": {
     "cellMetadata": {
      "byteLimit": 2048000,
      "rowLimit": 10000
     },
     "inputWidgets": {},
     "nuid": "2458d582-10e2-4d8f-bbbc-59238a60e7d2",
     "showTitle": false,
     "title": ""
    },
    "id": "xaKFaf1FZDhW"
   },
   "outputs": [
    {
     "name": "stdout",
     "output_type": "stream",
     "text": [
      "Out[59]: array([0, 0, 2, 0, 0, 0, 0, 0, 0, 0, 0, 0, 0, 0, 0, 0, 0, 0, 0, 0, 0, 0,\n",
      "       1, 0, 0, 0, 0, 0, 0, 0, 0, 0, 0, 0, 0, 0, 1, 0, 2, 0, 0, 0, 0, 0,\n",
      "       0, 0, 0, 0, 0, 0, 0, 0, 0, 0, 0, 2, 0, 1, 0, 0, 0, 0, 0, 0, 0, 0,\n",
      "       0, 0])"
     ]
    }
   ],
   "source": [
    "previsoes = knn_dummie.predict(X_dummies_teste)\n",
    "previsoes"
   ]
  },
  {
   "cell_type": "code",
   "execution_count": null,
   "metadata": {
    "application/vnd.databricks.v1+cell": {
     "cellMetadata": {
      "byteLimit": 2048000,
      "rowLimit": 10000
     },
     "inputWidgets": {},
     "nuid": "bf727338-21c7-4c0d-ad41-c18c7217a625",
     "showTitle": false,
     "title": ""
    },
    "id": "V90PJroQZJbG"
   },
   "outputs": [
    {
     "name": "stdout",
     "output_type": "stream",
     "text": [
      "Out[60]: array([1, 2, 2, 2, 1, 2, 2, 2, 1, 2, 1, 1, 1, 1, 0, 1, 2, 1, 0, 2, 0, 1,\n",
      "       1, 1, 2, 0, 1, 1, 0, 0, 2, 0, 2, 0, 0, 1, 0, 2, 2, 0, 0, 2, 1, 0,\n",
      "       0, 1, 1, 0, 0, 2, 1, 2, 0, 0, 0, 1, 1, 0, 2, 2, 2, 0, 2, 2, 1, 0,\n",
      "       0, 2])"
     ]
    }
   ],
   "source": [
    "y_dummies_teste"
   ]
  },
  {
   "cell_type": "code",
   "execution_count": null,
   "metadata": {
    "application/vnd.databricks.v1+cell": {
     "cellMetadata": {
      "byteLimit": 2048000,
      "rowLimit": 10000
     },
     "inputWidgets": {},
     "nuid": "e511a1cc-80e6-4cf2-8bf8-510e85aac8e9",
     "showTitle": false,
     "title": ""
    },
    "id": "Vb6qoegxZMxf"
   },
   "outputs": [
    {
     "name": "stdout",
     "output_type": "stream",
     "text": [
      "Out[61]: 0.35294117647058826"
     ]
    }
   ],
   "source": [
    "from sklearn.metrics import accuracy_score, classification_report\n",
    "accuracy_score(y_dummies_teste, previsoes)"
   ]
  },
  {
   "cell_type": "code",
   "execution_count": null,
   "metadata": {
    "application/vnd.databricks.v1+cell": {
     "cellMetadata": {
      "byteLimit": 2048000,
      "rowLimit": 10000
     },
     "inputWidgets": {},
     "nuid": "6ddf33e9-2397-481a-8bf5-3362c7199f0c",
     "showTitle": false,
     "title": ""
    },
    "id": "uZIgxtMbZQW-"
   },
   "outputs": [
    {
     "name": "stdout",
     "output_type": "stream",
     "text": [
      "Out[62]: 0.35294117647058826"
     ]
    },
    {
     "data": {
      "image/png": "[encoded data removed]"
     },
     "metadata": {
      "application/vnd.databricks.v1+output": {
       "addedWidgets": {},
       "arguments": {},
       "data": "data:image/png;base64,iVBORw0KGgoAAAANSUhEUgAAAdsAAAFICAYAAAAYiFTZAAAAOXRFWHRTb2Z0d2FyZQBNYXRwbG90bGliIHZlcnNpb24zLjUuMSwgaHR0cHM6Ly9tYXRwbG90bGliLm9yZy/YYfK9AAAACXBIWXMAAAsTAAALEwEAmpwYAAAUM0lEQVR4nO3cf3CUhZ3H8c9mf4RkSUNDJCGgSY6QkvLTAb27tCqg0l7lh4C1jMpZy7SIwuHdiBXkVxSmnu1YUjLNaGvVE9qRdrQWCg6OnDBmnM41WM9gSCISopIEYjAlWZLsPtn7oza9FCmB5pvHZ3m/ZhjD82R2P8Osee+zm8QXj8fjAgAAZpLcHgAAQKIjtgAAGCO2AAAYI7YAABgjtgAAGAtY3GhPT486OjoUDAbl8/ks7gIAgM+MeDyuaDSqcDispKSzr2NNYtvR0aHa2lqLmwYA4DOrsLBQaWlpZx03iW0wGJQkVSzZqM4TrRZ3gUvMyqP7PvmoytUdSBQT3B6ABNPd3a3a2tre/v01k9j++aXjzhOtOtPYYnEXuMQkJye7PQEJhccTbJzrrVO+QQoAAGPEFgAAY8QWAABjxBYAAGPEFgAAY8QWAABjxBYAAGPEFgAAY8QWAABjxBYAAGPEFgAAY8QWAABjxBYAAGPEFgAAY8QWAABjxBYAAGPEFgAAY8QWAABjxBYAAGPEFgAAY8QWAABjxBYAAGPEFgAAY8QWAABjxBYAAGPEFgAAY8QWAABjxBYAAGPEFgAAY8QWAABjxBYAAGPEFgAAY8QWAABjxBYAAGPEFgAAY8QWAABjxBYAAGPEFgAAY8QWAABjxBYAAGPEFgAAY8QWAABjxHYQ+ENBzf3pZq2s36cH/3hQS9/8tQq+eq0kKSkY1Nd/WaqVR1/VhniNcq+72uW18KKurm4tWfKwcnNnKy3tWk2Zcpv27KlwexY8LhqNqqqqSgcOHNAbb7yh5uZmtyd5Vr9i+/HHH+vee+/VlClTNGPGDO3cudN6V0JJCgTU9n6jnrlusR5Nn6p9a7folh1blJ47SpLU8PpBvXDHAzrdeMLlpfCqWMzR5Zdnaf/+J9XW9po2bVqmW29drfr6425Pg4fV1dXJ5/OpuLhYRUVFqq2tVUdHh9uzPCnQn096+OGHFQwGVVFRoerqai1dulTjxo3T2LFjrfclhGjkjPaXlPX+ve63r+njox8oZ+p4VR/7UL8rfVaSFHd63JoIjwuHU7Rx49Lev8+efY3y83NUWVmtvLwcF5fBqxzH0cmTJ3XVVVcpEAho2LBhyszMVFNTk8aMGeP2PM8575VtJBLR3r17tXLlSoXDYU2bNk0zZ87USy+9NBj7ElJ4xHANL8zTiUPvuj0FCaq5+SPV1jZo/Hi+KOLiRCIR+Xw+paam9h4Lh8OKRCIurvKu88a2vr5efr9f+fn5vcfGjRund98lFBcjKRDQgu0/0FvPvqiPat5zew4SUDQa0+23r9Odd96kcePy3J4Dj3IcR36/v8+xQCCgWCzm0iJv69eV7dChQ/scS0tL43X7i+Hzaf5zj8npjmr38kfcXoME1NPTo8WL1ykUCqis7Ltuz4GH+f1+OY7T55jjOAoE+vXuI/7Kef/VUlNT1d7e3udYe3u7wuGw2ahENfepzQpnZernX/u2enh2iAEWj8e1ZMkjam5u1e7dpQoG+aKIi5eamqp4PK5IJNL7UnJ7e3ufl5XRf+e9ss3Ly5PjOKqvr+89dvjwYRUUFFjuSjg3lZfosqIx+sWcuxXr7Opzzh8Kyp8cOutj4EIsW/Y9VVcf1c6dP1RKyhC358Dj/H6/MjMzVV9fL8dx1NbWppaWFmVnZ7s9zZPOG9vU1FTdeOON+tGPfqRIJKLKykq9+uqrmjdv3mDsSwjpV+Ro2t2LlD2lSPc3va7Vpw9q9emDmnjbHEnS8pqXtbbzbX1udLYW7/2Z1na+3ftjQUB/HDvWqCeeeEF/+EOtsrO/oqFDr9HQoddo+/Y9bk+DhxUWFspxHFVUVOidd95RYWEhr2pepH69zrRhwwatWbNGxcXFGjZsmDZu3MiP/VyAtobjKvF94ZznS/OvH8Q1SES5uSMVj//e7RlIMMFgUBMnTnR7RkLoV2yHDRumH//4x9ZbAABISPy6RgAAjBFbAACMEVsAAIwRWwAAjBFbAACMEVsAAIwRWwAAjBFbAACMEVsAAIwRWwAAjBFbAACMEVsAAIwRWwAAjBFbAACMEVsAAIwRWwAAjBFbAACMEVsAAIwRWwAAjBFbAACMEVsAAIwRWwAAjBFbAACMEVsAAIwRWwAAjBFbAACMEVsAAIwRWwAAjBFbAACMEVsAAIwRWwAAjBFbAACMEVsAAIwRWwAAjBFbAACMEVsAAIwRWwAAjBFbAACMEVsAAIwRWwAAjBFbAACMEVsAAIwRWwAAjAUsb/zp9FY1d560vAtcIjb0fjTVxRUAcHG4soUnZGRkuD0BAC6a6ZXtXW0ZOnOqx/IucIko/fxJZWRkqLX1FbenICH8+RWSSldXIJFM+JtnubIFAMAYsQUAwBixBQDAGLEFAMAYsQUAwBixBQDAGLEFAMAYsQUAwBixBQDAGLEFAMAYsQUAwBixBQDAGLEFAMAYsQUAwBixBQDAGLEFAMAYsQUAwBixBQDAGLEFAMAYsQUAwBixBQDAGLEFAMAYsQUAwBixBQDAGLEFAMAYsQUAwBixBQDAGLEFAMAYsQUAwBixBQDAGLEFAMAYsQUAwBixBQDAGLEFAMAYsQUAwBixBQDAGLEFAMAYsQUAwBixBQDAGLEFAMAYsQUAwBixBQDAGLEdJP5QUHN/ulkr6/fpwT8e1NI3f62Cr17bez5/5j/p3uo9WtPxB/3rvv9S+hU5Lq6FF5WVPa9p0xYrOfmf9c1vbnR7DjyOx9PAIraDJCkQUNv7jXrmusV6NH2q9q3dolt2bFF67iilDP+8bn2hTP+9rlT/mXG1Gn9fpVue/6Hbk+ExOTmXae3aJfrWt+a6PQUJgMfTwOpXbLdt26YFCxZowoQJevDBB603JaRo5Iz2l5Sp7diHUjyuut++po+PfqCcqeNVtOBGnTxUp3d+9bKcrm69tnGrsiaP0/Av/IPbs+EhCxbM1M03T9fw4eluT0EC4PE0sPoV2xEjRuiee+7RwoULrfdcMsIjhmt4YZ5OHHpXI8aPVfNbNb3nopEzOnWkQSPGF7i4EAAwUAL9+aRZs2ZJkt5++201NzebDroUJAUCWrD9B3rr2Rf1Uc17Cg1NVcfJ1j6f09nWrlBa2KWFAICBxHu2g83n0/znHpPTHdXu5Y9IkrrbI0r+3NA+n5b8ubC6T3e4sRAAMMCI7SCb+9RmhbMytWPhCvXEYpKkE4fqlDV5XO/nBFNTlDHmCp049K5bMwEAA4jYDqKbykt0WdEY/WLO3Yp1dvUeP/ziKxoxYayKFsySPzmk69bfq+b/rdFHNe+5uBZeE4vF1NnZJcfpkeM46uzsUuyTJ3TAheLxNLCI7SBJvyJH0+5epOwpRbq/6XWtPn1Qq08f1MTb5ijScko7Fq7QzM3/ru+e+h+N+sdJ+tWi/3B7Mjxm06anlJLyJT366DPatm2PUlK+pE2bnnJ7FjyKx9PA8sXj8fj5PikWi8lxHJWVlampqUmbNm2S3+9XIPDp31/V1dWlqqoqvTrn33SmsWXAR+PSU/r5k5Kk1tZXXF6CxDD1k/9WuroCiaOra4Kqqqo0YcIEJScnn3W+X1e25eXlmjRpkp588kn95je/0aRJk1ReXj7gYwEASET9+tGfFStWaMWKFdZbAABISLxnCwCAMWILAIAxYgsAgDFiCwCAMWILAIAxYgsAgDFiCwCAMWILAIAxYgsAgDFiCwCAMWILAIAxYgsAgDFiCwCAMWILAIAxYgsAgDFiCwCAMWILAIAxYgsAgDFiCwCAMWILAIAxYgsAgDFiCwCAMWILAIAxYgsAgDFiCwCAMWILAIAxYgsAgDFiCwCAMWILAIAxYgsAgDFiCwCAMWILAIAxYgsAgDFiCwCAMWILAIAxYgsAgDFiCwCAMWILAIAxYgsAgDFiCwCAMWILAIAxYgsAgDFiCwCAsYDlja88uk/JycmWd4FLRGlGhiQpI+NGl5cgEbS2tn7y0VRXdyCRdP3Ns1zZwhP+8sUR+PtlfPLkDRgsple2pfkzdaaxxfIucInYEK8huBgwGRkZysjIUGvrK25PQYKYMuUObdu27ZznubIFAMAYsQUAwBixBQDAGLEFAMAYsQUAwBixBQDAGLEFAMAYsQUAwBixBQDAGLEFAMAYsQUAwBixBQDAGLEFAMAYsQUAwBixBQDAGLEFAMAYsQUAwBixBQDAGLEFAMAYsQUAwBixBQDAGLEFAMAYsQUAwBixBQDAGLEFAMAYsQUAwBixBQDAGLEFAMAYsQUAwBixBQDAGLEFAMAYsQUAwBixBQDAGLEFAMAYsQUAwBixBQDAGLEFAMAYsQUAwBixBQDAGLEFAMAYsQUAwBixBQDAGLEdBP5QUHN/ulkr6/fpwT8e1NI3f62Cr14rSUoKBvX1X5Zq5dFXtSFeo9zrrnZ5LbwqGo2qqqpKBw4c0BtvvKHm5ma3J8HDurq6tWTJw8rNna20tGs1Zcpt2rOnwu1ZnnXe2HZ3d2vNmjWaMWOGrrzySs2bN0/79+8fjG0JIykQUNv7jXrmusV6NH2q9q3dolt2bFF67ihJUsPrB/XCHQ/odOMJl5fCy+rq6uTz+VRcXKyioiLV1taqo6PD7VnwqFjM0eWXZ2n//ifV1vaaNm1apltvXa36+uNuT/Ok88Y2Fotp5MiReu6551RZWan77rtP9913nz744IPB2JcQopEz2l9SprZjH0rxuOp++5o+PvqBcqaOV080qt+VPqv3KyoVd3rcngqPchxHJ0+eVH5+vgKBgIYNG6bMzEw1NTW5PQ0eFQ6naOPGpcrLy1FSUpJmz75G+fk5qqysdnuaJ503tqmpqVqxYoVGjx6tpKQkzZgxQ6NHj9ahQ4cGY19CCo8YruGFeTpx6F23pyBBRCIR+Xw+paam9h4Lh8OKRCIurkIiaW7+SLW1DRo/fozbUzzpgt+zbWlpUX19vQoKCiz2JLykQEALtv9Abz37oj6qec/tOUgQjuPI7/f3ORYIBBSLxVxahEQSjcZ0++3rdOedN2ncuDy353jSBcU2Go3q/vvv1/z58zVmDM9uLpjPp/nPPSanO6rdyx9xew0SiN/vl+M4fY45jqNAIODSIiSKnp4eLV68TqFQQGVl33V7jmf1+//Enp4ePfDAAwoGg1q3bp3lpoQ196nNCmdl6udf+7Z6uOLAAEpNTVU8HlckEul9Kbm9vb3Py8rAhYrH41qy5BE1N7dq9+5SBYM8ebtY/bqyjcfjeuihh9TS0qKtW7cqGAxa70o4N5WX6LKiMfrFnLsV6+zqc84fCsqfHDrrY6C//H6/MjMzVV9fL8dx1NbWppaWFmVnZ7s9DR62bNn3VF19VDt3/lApKUPcnuNp/XqasmHDBh05ckRPP/20hgzhH/xCpV+Ro2l3L1Kss0v3N73ee3zX0g16++c7tbzmZQ3LGy1JWrz3Z5KkLXkz//Tdy0A/FRYW6vDhw6qoqFAwGFRhYaHC4bDbs+BRx4416oknXlByckjZ2V/pPf7EE2t0++3/4uIybzpvbD/88EM9//zzCoVC+vKXv9x7vKSkRHPnzjUdlyjaGo6rxPeFc54vzb9+ENcgUQWDQU2cONHtGUgQubkjFY//3u0ZCeO8sR01apRqamoGYwsAAAmJX9cIAIAxYgsAgDFiCwCAMWILAIAxYgsAgDFiCwCAMWILAIAxYgsAgDFiCwCAMWILAIAxYgsAgDFiCwCAMWILAIAxYgsAgDFiCwCAMWILAIAxYgsAgDFiCwCAMWILAIAxYgsAgDFiCwCAMWILAIAxYgsAgDFiCwCAMWILAIAxYgsAgDFiCwCAMWILAIAxYgsAgDFiCwCAMWILAIAxYgsAgDFiCwCAMWILAIAxYgsAgDFiCwCAMWILAIAxYgsAgDFiCwCAMWILAIAxYgsAgDFiCwCAMWILAICxgMWNxuNxSdKympcVCoUs7gKXmK6uLrcnIIFkZWVJkoqK7nB5CRJFZmampL/076/54uc683c4ffq0amtrB/pmAQD4TCssLFRaWtpZx01i29PTo46ODgWDQfl8voG+eQAAPlPi8bii0ajC4bCSks5+h9YktgAA4C/4BikAAIwRWwAAjBFbAACMEVsAAIwRWwAAjBFbAACMmfwGKXy6I0eO6KWXXlJdXZ06OjoUDoc1duxYzZs3T2PGjHF7HgDo+PHjOnTokAoKCpSfn9/n3K5duzR79myXlnkbV7aDZNeuXfrGN76hpqYmXXXVVZozZ46uvvpqNTc3a9GiRdq9e7fbE5FgHMdRWVmZ2zPgIQcOHNDs2bO1detW3Xzzzdq4caMcx+k9v379ehfXeRu/1GKQzJw5U9///vc1derUs85VVlZq1apV2rdvnwvLkKi6u7s1efJkVVdXuz0FHjF//nytXLlS06dPV0tLi1atWqVQKKStW7cqFArpyiuv1Jtvvun2TE/iZeRBcurUKY0fP/5Tz33xi1/UqVOnBnkREsHq1avPee7/X5EA/dHQ0KDp06dL+tMv1v/JT36iVatW6Tvf+Y7Ky8vdHedxvIw8SIqLi7VmzRo1NDT0Od7Q0KC1a9equLjYpWXwsl27dmnIkCHKyso66092drbb8+Ax6enpamxs7P17IBDQ448/rpEjR+quu+5ST0+Pi+u8jZeRB0lbW5tKSkq0d+9eBYNBhcNhdXR0KBaLadasWVq/fr3S09PdngmPWbhwoe655x5df/31Z53r6urS5MmTdfjwYReWwYseeughjRw5UsuXLz/r3Pr167Vjxw4eTxeJ2A6yM2fOqL6+vve7kfPy8pSSkuL2LHjU9u3blZWVpRtuuOGsc47jqLy8/FO/cAKfpru7W47jnPNr0vHjx5WTkzPIqxIDsQUAwBjv2QIAYIzYAgBgjNgCAGCM2AIAYIzYAgBg7P8A9QLUsglrH8YAAAAASUVORK5CYII=\n",
       "datasetInfos": [],
       "metadata": {},
       "removedWidgets": [],
       "type": "image"
      }
     },
     "output_type": "display_data"
    }
   ],
   "source": [
    "from yellowbrick.classifier import ConfusionMatrix\n",
    "cm = ConfusionMatrix(knn_dummie)\n",
    "cm.fit(X_dummies_treinamento, y_dummies_treinamento)\n",
    "cm.score(X_dummies_teste.toarray(), y_dummies_teste)"
   ]
  },
  {
   "cell_type": "markdown",
   "metadata": {
    "application/vnd.databricks.v1+cell": {
     "cellMetadata": {},
     "inputWidgets": {},
     "nuid": "1c400c48-8896-4901-9012-79012c55e750",
     "showTitle": false,
     "title": ""
    },
    "id": "2UGZhQKEZY8t"
   },
   "source": [
    "##SVM"
   ]
  },
  {
   "cell_type": "code",
   "execution_count": null,
   "metadata": {
    "application/vnd.databricks.v1+cell": {
     "cellMetadata": {
      "byteLimit": 2048000,
      "rowLimit": 10000
     },
     "inputWidgets": {},
     "nuid": "e5c39753-19f3-4c03-86d8-e17e757e1a21",
     "showTitle": false,
     "title": ""
    },
    "id": "mR-RHBqnZcjN"
   },
   "outputs": [],
   "source": [
    "from sklearn.svm import SVC"
   ]
  },
  {
   "cell_type": "code",
   "execution_count": null,
   "metadata": {
    "application/vnd.databricks.v1+cell": {
     "cellMetadata": {
      "byteLimit": 2048000,
      "rowLimit": 10000
     },
     "inputWidgets": {},
     "nuid": "6c5c0182-3502-4e24-8bc0-1115aeeffc57",
     "showTitle": false,
     "title": ""
    },
    "id": "tNLIz-gWZfJt"
   },
   "outputs": [],
   "source": [
    "with open('dummies.pkl', 'rb') as f:\n",
    "  X_dummies_treinamento, X_dummies_teste, y_dummies_treinamento, y_dummies_teste = pickle.load(f)"
   ]
  },
  {
   "cell_type": "code",
   "execution_count": null,
   "metadata": {
    "application/vnd.databricks.v1+cell": {
     "cellMetadata": {
      "byteLimit": 2048000,
      "rowLimit": 10000
     },
     "inputWidgets": {},
     "nuid": "ee4eaecf-3616-4b89-8c8f-56a7ea913159",
     "showTitle": false,
     "title": ""
    },
    "id": "olPGI1t9Zhct"
   },
   "outputs": [],
   "source": [
    "svm_dummie = SVC(kernel='linear', random_state=1)"
   ]
  },
  {
   "cell_type": "code",
   "execution_count": null,
   "metadata": {
    "application/vnd.databricks.v1+cell": {
     "cellMetadata": {
      "byteLimit": 2048000,
      "rowLimit": 10000
     },
     "inputWidgets": {},
     "nuid": "7e16b4d6-d2a3-49f7-8668-076fe13d3636",
     "showTitle": false,
     "title": ""
    },
    "id": "cVYaCOjjZkO2"
   },
   "outputs": [
    {
     "name": "stdout",
     "output_type": "stream",
     "text": [
      "Out[66]: SVC(kernel='linear', random_state=1)"
     ]
    }
   ],
   "source": [
    "svm_dummie.fit(X_dummies_treinamento, y_dummies_treinamento)"
   ]
  },
  {
   "cell_type": "code",
   "execution_count": null,
   "metadata": {
    "application/vnd.databricks.v1+cell": {
     "cellMetadata": {
      "byteLimit": 2048000,
      "rowLimit": 10000
     },
     "inputWidgets": {},
     "nuid": "842d2e34-1d54-4e6f-aaf1-55ba445c3d7a",
     "showTitle": false,
     "title": ""
    },
    "id": "FiE2KQ45Zpum"
   },
   "outputs": [
    {
     "name": "stdout",
     "output_type": "stream",
     "text": [
      "Out[67]: array([2, 1, 2, 1, 0, 2, 1, 1, 0, 2, 2, 0, 0, 1, 0, 0, 2, 2, 2, 2, 2, 1,\n",
      "       1, 0, 1, 2, 1, 2, 0, 1, 1, 2, 2, 0, 1, 1, 1, 1, 2, 2, 0, 0, 0, 0,\n",
      "       0, 2, 1, 2, 0, 0, 2, 1, 2, 0, 0, 2, 2, 2, 2, 1, 2, 0, 1, 0, 0, 0,\n",
      "       2, 1])"
     ]
    }
   ],
   "source": [
    "previsoes = svm_dummie.predict(X_dummies_teste)\n",
    "previsoes"
   ]
  },
  {
   "cell_type": "code",
   "execution_count": null,
   "metadata": {
    "application/vnd.databricks.v1+cell": {
     "cellMetadata": {
      "byteLimit": 2048000,
      "rowLimit": 10000
     },
     "inputWidgets": {},
     "nuid": "c211cfce-1602-4697-b8a6-f34e8bf60f0f",
     "showTitle": false,
     "title": ""
    },
    "id": "2zADTUEBZuHW"
   },
   "outputs": [
    {
     "name": "stdout",
     "output_type": "stream",
     "text": [
      "Out[68]: array([1, 2, 2, 2, 1, 2, 2, 2, 1, 2, 1, 1, 1, 1, 0, 1, 2, 1, 0, 2, 0, 1,\n",
      "       1, 1, 2, 0, 1, 1, 0, 0, 2, 0, 2, 0, 0, 1, 0, 2, 2, 0, 0, 2, 1, 0,\n",
      "       0, 1, 1, 0, 0, 2, 1, 2, 0, 0, 0, 1, 1, 0, 2, 2, 2, 0, 2, 2, 1, 0,\n",
      "       0, 2])"
     ]
    }
   ],
   "source": [
    "y_dummies_teste"
   ]
  },
  {
   "cell_type": "code",
   "execution_count": null,
   "metadata": {
    "application/vnd.databricks.v1+cell": {
     "cellMetadata": {
      "byteLimit": 2048000,
      "rowLimit": 10000
     },
     "inputWidgets": {},
     "nuid": "4bc79168-1713-4cbe-8a4f-ca3090a184ea",
     "showTitle": false,
     "title": ""
    },
    "id": "g9Svp3VwaFne"
   },
   "outputs": [
    {
     "name": "stdout",
     "output_type": "stream",
     "text": [
      "Out[69]: 0.38235294117647056"
     ]
    }
   ],
   "source": [
    "from sklearn.metrics import accuracy_score, classification_report\n",
    "accuracy_score(y_dummies_teste, previsoes)"
   ]
  },
  {
   "cell_type": "code",
   "execution_count": null,
   "metadata": {
    "application/vnd.databricks.v1+cell": {
     "cellMetadata": {
      "byteLimit": 2048000,
      "rowLimit": 10000
     },
     "inputWidgets": {},
     "nuid": "3fb5d3f4-5d80-4498-912e-8d5af422775a",
     "showTitle": false,
     "title": ""
    },
    "id": "XUmCcYFDaJZt"
   },
   "outputs": [
    {
     "name": "stdout",
     "output_type": "stream",
     "text": [
      "Out[70]: 0.38235294117647056"
     ]
    },
    {
     "data": {
      "image/png": "[encoded data removed]"
     },
     "metadata": {
      "application/vnd.databricks.v1+output": {
       "addedWidgets": {},
       "arguments": {},
       "data": "data:image/png;base64,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\n",
       "datasetInfos": [],
       "metadata": {},
       "removedWidgets": [],
       "type": "image"
      }
     },
     "output_type": "display_data"
    }
   ],
   "source": [
    "from yellowbrick.classifier import ConfusionMatrix\n",
    "cm = ConfusionMatrix(svm_dummie)\n",
    "cm.fit(X_dummies_treinamento, y_dummies_treinamento)\n",
    "cm.score(X_dummies_teste.toarray(), y_dummies_teste)"
   ]
  },
  {
   "cell_type": "markdown",
   "metadata": {
    "application/vnd.databricks.v1+cell": {
     "cellMetadata": {},
     "inputWidgets": {},
     "nuid": "ea2b876a-5c82-47f2-b881-79237ac65ffe",
     "showTitle": false,
     "title": ""
    },
    "id": "cJ1wCfY68Bvn"
   },
   "source": [
    "## Redes Neurais"
   ]
  },
  {
   "cell_type": "code",
   "execution_count": null,
   "metadata": {
    "application/vnd.databricks.v1+cell": {
     "cellMetadata": {
      "byteLimit": 2048000,
      "rowLimit": 10000
     },
     "inputWidgets": {},
     "nuid": "3d636c42-efcd-4acd-8a2b-361ac0cc595c",
     "showTitle": false,
     "title": ""
    },
    "id": "rMGxTZ028E-H"
   },
   "outputs": [],
   "source": [
    "from sklearn.neural_network import MLPClassifier"
   ]
  },
  {
   "cell_type": "code",
   "execution_count": null,
   "metadata": {
    "application/vnd.databricks.v1+cell": {
     "cellMetadata": {
      "byteLimit": 2048000,
      "rowLimit": 10000
     },
     "inputWidgets": {},
     "nuid": "5a6f350f-bdb9-473b-ac2a-a9fd5e7b87cb",
     "showTitle": false,
     "title": ""
    },
    "id": "jcDMGoQj8H6f"
   },
   "outputs": [],
   "source": [
    "with open('dummies.pkl', 'rb') as f:\n",
    "  X_dummies_treinamento, X_dummies_teste, y_dummies_treinamento, y_dummies_teste = pickle.load(f)"
   ]
  },
  {
   "cell_type": "code",
   "execution_count": null,
   "metadata": {
    "application/vnd.databricks.v1+cell": {
     "cellMetadata": {
      "byteLimit": 2048000,
      "rowLimit": 10000
     },
     "inputWidgets": {},
     "nuid": "b2c3bfe7-5078-4b9e-bc8f-e0814782ad3d",
     "showTitle": false,
     "title": ""
    },
    "colab": {
     "base_uri": "https://localhost:8080/",
     "height": 1000
    },
    "id": "6sJOWj4x8ioY",
    "outputId": "fb64c4ed-b16b-4102-c5f6-1ca2961071a9"
   },
   "outputs": [
    {
     "name": "stdout",
     "output_type": "stream",
     "text": [
      "Iteration 1, loss = 1.23685935\n",
      "Iteration 2, loss = 1.19034176\n",
      "Iteration 3, loss = 1.15425739\n",
      "Iteration 4, loss = 1.12245972\n",
      "Iteration 5, loss = 1.09432324\n",
      "Iteration 6, loss = 1.06804636\n",
      "Iteration 7, loss = 1.04191526\n",
      "Iteration 8, loss = 1.01748165\n",
      "Iteration 9, loss = 0.99568711\n",
      "Iteration 10, loss = 0.97542983\n",
      "Iteration 11, loss = 0.95528232\n",
      "Iteration 12, loss = 0.93541095\n",
      "Iteration 13, loss = 0.91600877\n",
      "Iteration 14, loss = 0.89741803\n",
      "Iteration 15, loss = 0.87922652\n",
      "Iteration 16, loss = 0.86186370\n",
      "Iteration 17, loss = 0.84462215\n",
      "Iteration 18, loss = 0.82776100\n",
      "Iteration 19, loss = 0.81107315\n",
      "Iteration 20, loss = 0.79477806\n",
      "Iteration 21, loss = 0.77922545\n",
      "Iteration 22, loss = 0.76404596\n",
      "Iteration 23, loss = 0.74957307\n",
      "Iteration 24, loss = 0.73575736\n",
      "Iteration 25, loss = 0.72238783\n",
      "Iteration 26, loss = 0.70945449\n",
      "Iteration 27, loss = 0.69714810\n",
      "Iteration 28, loss = 0.68504828\n",
      "Iteration 29, loss = 0.67345196\n",
      "Iteration 30, loss = 0.66201980\n",
      "Iteration 31, loss = 0.65069511\n",
      "Iteration 32, loss = 0.63959547\n",
      "Iteration 33, loss = 0.62874682\n",
      "Iteration 34, loss = 0.61820175\n",
      "Iteration 35, loss = 0.60784483\n",
      "Iteration 36, loss = 0.59765213\n",
      "Iteration 37, loss = 0.58734139\n",
      "Iteration 38, loss = 0.57723496\n",
      "Iteration 39, loss = 0.56738149\n",
      "Iteration 40, loss = 0.55756598\n",
      "Iteration 41, loss = 0.54787225\n",
      "Iteration 42, loss = 0.53842491\n",
      "Iteration 43, loss = 0.52909857\n",
      "Iteration 44, loss = 0.51969970\n",
      "Iteration 45, loss = 0.51031604\n",
      "Iteration 46, loss = 0.50110170\n",
      "Iteration 47, loss = 0.49212033\n",
      "Iteration 48, loss = 0.48339345\n",
      "Iteration 49, loss = 0.47484833\n",
      "Iteration 50, loss = 0.46640621\n",
      "Iteration 51, loss = 0.45821355\n",
      "Iteration 52, loss = 0.45026396\n",
      "Iteration 53, loss = 0.44242269\n",
      "Iteration 54, loss = 0.43479448\n",
      "Iteration 55, loss = 0.42759381\n",
      "Iteration 56, loss = 0.42043181\n",
      "Iteration 57, loss = 0.41334247\n",
      "Iteration 58, loss = 0.40653817\n",
      "Iteration 59, loss = 0.39993364\n",
      "Iteration 60, loss = 0.39337775\n",
      "Iteration 61, loss = 0.38658993\n",
      "Iteration 62, loss = 0.37994677\n",
      "Iteration 63, loss = 0.37337005\n",
      "Iteration 64, loss = 0.36685665\n",
      "Iteration 65, loss = 0.36029018\n",
      "Iteration 66, loss = 0.35366995\n",
      "Iteration 67, loss = 0.34711490\n",
      "Iteration 68, loss = 0.34049050\n",
      "Iteration 69, loss = 0.33391573\n",
      "Iteration 70, loss = 0.32736390\n",
      "Iteration 71, loss = 0.32088524\n",
      "Iteration 72, loss = 0.31458996\n",
      "Iteration 73, loss = 0.30867150\n",
      "Iteration 74, loss = 0.30278846\n",
      "Iteration 75, loss = 0.29689752\n",
      "Iteration 76, loss = 0.29103720\n",
      "Iteration 77, loss = 0.28511434\n",
      "Iteration 78, loss = 0.27944221\n",
      "Iteration 79, loss = 0.27359278\n",
      "Iteration 80, loss = 0.26757160\n",
      "Iteration 81, loss = 0.26171570\n",
      "Iteration 82, loss = 0.25590500\n",
      "Iteration 83, loss = 0.25014887\n",
      "Iteration 84, loss = 0.24449397\n",
      "Iteration 85, loss = 0.23903287\n",
      "Iteration 86, loss = 0.23369041\n",
      "Iteration 87, loss = 0.22850489\n",
      "Iteration 88, loss = 0.22370070\n",
      "Iteration 89, loss = 0.21894034\n",
      "Iteration 90, loss = 0.21416251\n",
      "Iteration 91, loss = 0.20954921\n",
      "Iteration 92, loss = 0.20514989\n",
      "Iteration 93, loss = 0.20079863\n",
      "Iteration 94, loss = 0.19650511\n",
      "Iteration 95, loss = 0.19227064\n",
      "Iteration 96, loss = 0.18814831\n",
      "Iteration 97, loss = 0.18416712\n",
      "Iteration 98, loss = 0.18022383\n",
      "Iteration 99, loss = 0.17644807\n",
      "Iteration 100, loss = 0.17289660\n",
      "Iteration 101, loss = 0.16953322\n",
      "Iteration 102, loss = 0.16622558\n",
      "Iteration 103, loss = 0.16291192\n",
      "Iteration 104, loss = 0.15970054\n",
      "Iteration 105, loss = 0.15661517\n",
      "Iteration 106, loss = 0.15362615\n",
      "Iteration 107, loss = 0.15067028\n",
      "Iteration 108, loss = 0.14777950\n",
      "Iteration 109, loss = 0.14494326\n",
      "Iteration 110, loss = 0.14199700\n",
      "Iteration 111, loss = 0.13912709\n",
      "Iteration 112, loss = 0.13635073\n",
      "Iteration 113, loss = 0.13372057\n",
      "Iteration 114, loss = 0.13122533\n",
      "Iteration 115, loss = 0.12883288\n",
      "Iteration 116, loss = 0.12655114\n",
      "Iteration 117, loss = 0.12424827\n",
      "Iteration 118, loss = 0.12186725\n",
      "Iteration 119, loss = 0.11954377\n",
      "Iteration 120, loss = 0.11725174\n",
      "Iteration 121, loss = 0.11508795\n",
      "Iteration 122, loss = 0.11301111\n",
      "Iteration 123, loss = 0.11106902\n",
      "Iteration 124, loss = 0.10914478\n",
      "Iteration 125, loss = 0.10720636\n",
      "Iteration 126, loss = 0.10531346\n",
      "Iteration 127, loss = 0.10349758\n",
      "Iteration 128, loss = 0.10170580\n",
      "Iteration 129, loss = 0.09986271\n",
      "Iteration 130, loss = 0.09788295\n",
      "Iteration 131, loss = 0.09591599\n",
      "Iteration 132, loss = 0.09403653\n",
      "Iteration 133, loss = 0.09228517\n",
      "Iteration 134, loss = 0.09057457\n",
      "Iteration 135, loss = 0.08891935\n",
      "Iteration 136, loss = 0.08736591\n",
      "Iteration 137, loss = 0.08574421\n",
      "Iteration 138, loss = 0.08419918\n",
      "Iteration 139, loss = 0.08268195\n",
      "Iteration 140, loss = 0.08120158\n",
      "Iteration 141, loss = 0.07983165\n",
      "Iteration 142, loss = 0.07828513\n",
      "Iteration 143, loss = 0.07675786\n",
      "Iteration 144, loss = 0.07534415\n",
      "Iteration 145, loss = 0.07402470\n",
      "Iteration 146, loss = 0.07272151\n",
      "Iteration 147, loss = 0.07144656\n",
      "Iteration 148, loss = 0.07022003\n",
      "Iteration 149, loss = 0.06901968\n",
      "Iteration 150, loss = 0.06783643\n",
      "Iteration 151, loss = 0.06672857\n",
      "Iteration 152, loss = 0.06567089\n",
      "Iteration 153, loss = 0.06465477\n",
      "Iteration 154, loss = 0.06365617\n",
      "Iteration 155, loss = 0.06270740\n",
      "Iteration 156, loss = 0.06175530\n",
      "Iteration 157, loss = 0.06085103\n",
      "Iteration 158, loss = 0.05992446\n",
      "Iteration 159, loss = 0.05901594\n",
      "Iteration 160, loss = 0.05814814\n",
      "Iteration 161, loss = 0.05728878\n",
      "Iteration 162, loss = 0.05642193\n",
      "Iteration 163, loss = 0.05557192\n",
      "Iteration 164, loss = 0.05472300\n",
      "Iteration 165, loss = 0.05389969\n",
      "Iteration 166, loss = 0.05311248\n",
      "Iteration 167, loss = 0.05233938\n",
      "Iteration 168, loss = 0.05156562\n",
      "Iteration 169, loss = 0.05077288\n",
      "Iteration 170, loss = 0.04993381\n",
      "Iteration 171, loss = 0.04907402\n",
      "Iteration 172, loss = 0.04825337\n",
      "Iteration 173, loss = 0.04747791\n",
      "Iteration 174, loss = 0.04675946\n",
      "Iteration 175, loss = 0.04610217\n",
      "Iteration 176, loss = 0.04545378\n",
      "Iteration 177, loss = 0.04481741\n",
      "Iteration 178, loss = 0.04422150\n",
      "Iteration 179, loss = 0.04361641\n",
      "Iteration 180, loss = 0.04299315\n",
      "Iteration 181, loss = 0.04241894\n",
      "Iteration 182, loss = 0.04187174\n",
      "Iteration 183, loss = 0.04132422\n",
      "Iteration 184, loss = 0.04077716\n",
      "Iteration 185, loss = 0.04024264\n",
      "Iteration 186, loss = 0.03965695\n",
      "Iteration 187, loss = 0.03906398\n",
      "Iteration 188, loss = 0.03853174\n",
      "Iteration 189, loss = 0.03799223\n",
      "Iteration 190, loss = 0.03744273\n",
      "Iteration 191, loss = 0.03694896\n",
      "Iteration 192, loss = 0.03644009\n",
      "Iteration 193, loss = 0.03591360\n",
      "Iteration 194, loss = 0.03544601\n",
      "Iteration 195, loss = 0.03497908\n",
      "Iteration 196, loss = 0.03451470\n",
      "Iteration 197, loss = 0.03406030\n",
      "Iteration 198, loss = 0.03363831\n",
      "Iteration 199, loss = 0.03323098\n",
      "Iteration 200, loss = 0.03284995\n",
      "Iteration 201, loss = 0.03249313\n",
      "Iteration 202, loss = 0.03214392\n",
      "Iteration 203, loss = 0.03179020\n",
      "Iteration 204, loss = 0.03144289\n",
      "Iteration 205, loss = 0.03104932\n",
      "Iteration 206, loss = 0.03061912\n",
      "Iteration 207, loss = 0.03019823\n",
      "Iteration 208, loss = 0.02980810\n",
      "Iteration 209, loss = 0.02944656\n",
      "Iteration 210, loss = 0.02910082\n",
      "Iteration 211, loss = 0.02873502\n",
      "Iteration 212, loss = 0.02835963\n",
      "Iteration 213, loss = 0.02802652\n",
      "Iteration 214, loss = 0.02771245\n",
      "Iteration 215, loss = 0.02740477\n",
      "Iteration 216, loss = 0.02710708\n",
      "Iteration 217, loss = 0.02681403\n",
      "Iteration 218, loss = 0.02652339\n",
      "Iteration 219, loss = 0.02623051\n",
      "Iteration 220, loss = 0.02594608\n",
      "Iteration 221, loss = 0.02566420\n",
      "Iteration 222, loss = 0.02538064\n",
      "Iteration 223, loss = 0.02508492\n",
      "Iteration 224, loss = 0.02464637\n",
      "Iteration 225, loss = 0.02412992\n",
      "Iteration 226, loss = 0.02367397\n",
      "Iteration 227, loss = 0.02326701\n",
      "Iteration 228, loss = 0.02289518\n",
      "Iteration 229, loss = 0.02257065\n",
      "Iteration 230, loss = 0.02226878\n",
      "Iteration 231, loss = 0.02194954\n",
      "Iteration 232, loss = 0.02163813\n",
      "Iteration 233, loss = 0.02136193\n",
      "Iteration 234, loss = 0.02110315\n",
      "Iteration 235, loss = 0.02084820\n",
      "Iteration 236, loss = 0.02060050\n",
      "Iteration 237, loss = 0.02036936\n",
      "Iteration 238, loss = 0.02015496\n",
      "Iteration 239, loss = 0.01994652\n",
      "Iteration 240, loss = 0.01974254\n",
      "Iteration 241, loss = 0.01954381\n",
      "Iteration 242, loss = 0.01934263\n",
      "Iteration 243, loss = 0.01908767\n",
      "Iteration 244, loss = 0.01881635\n",
      "Iteration 245, loss = 0.01856555\n",
      "Iteration 246, loss = 0.01831614\n",
      "Iteration 247, loss = 0.01809379\n",
      "Iteration 248, loss = 0.01783812\n",
      "Iteration 249, loss = 0.01757832\n",
      "Iteration 250, loss = 0.01734721\n",
      "Iteration 251, loss = 0.01711163\n",
      "Iteration 252, loss = 0.01687375\n",
      "Iteration 253, loss = 0.01666770\n",
      "Iteration 254, loss = 0.01648111\n",
      "Iteration 255, loss = 0.01630955\n",
      "Iteration 256, loss = 0.01614782\n",
      "Iteration 257, loss = 0.01598764\n",
      "Iteration 258, loss = 0.01584793\n",
      "Iteration 259, loss = 0.01571085\n",
      "Iteration 260, loss = 0.01556695\n",
      "Iteration 261, loss = 0.01542284\n",
      "Iteration 262, loss = 0.01530234\n",
      "Iteration 263, loss = 0.01518199\n",
      "Iteration 264, loss = 0.01505897\n",
      "Iteration 265, loss = 0.01493420\n",
      "Iteration 266, loss = 0.01481549\n",
      "Iteration 267, loss = 0.01469542\n",
      "Iteration 268, loss = 0.01456770\n",
      "Iteration 269, loss = 0.01442883\n",
      "Iteration 270, loss = 0.01429710\n",
      "Iteration 271, loss = 0.01416960\n",
      "Iteration 272, loss = 0.01403301\n",
      "Iteration 273, loss = 0.01389076\n",
      "Iteration 274, loss = 0.01375280\n",
      "Iteration 275, loss = 0.01362414\n",
      "Iteration 276, loss = 0.01344305\n",
      "Iteration 277, loss = 0.01323344\n",
      "Iteration 278, loss = 0.01302268\n",
      "Iteration 279, loss = 0.01281286\n",
      "Iteration 280, loss = 0.01263524\n",
      "Iteration 281, loss = 0.01248119\n",
      "Iteration 282, loss = 0.01234466\n",
      "Iteration 283, loss = 0.01222070\n",
      "Iteration 284, loss = 0.01209948\n",
      "Iteration 285, loss = 0.01198264\n",
      "Iteration 286, loss = 0.01187611\n",
      "Iteration 287, loss = 0.01177437\n",
      "Iteration 288, loss = 0.01167425\n",
      "Iteration 289, loss = 0.01157898\n",
      "Iteration 290, loss = 0.01149044\n",
      "Iteration 291, loss = 0.01140289\n",
      "Iteration 292, loss = 0.01131016\n",
      "Iteration 293, loss = 0.01121940\n",
      "Iteration 294, loss = 0.01113365\n",
      "Iteration 295, loss = 0.01104530\n",
      "Iteration 296, loss = 0.01095893\n",
      "Iteration 297, loss = 0.01087772\n",
      "Iteration 298, loss = 0.01079711\n",
      "Iteration 299, loss = 0.01072435\n",
      "Iteration 300, loss = 0.01064737\n",
      "Iteration 301, loss = 0.01056880\n",
      "Iteration 302, loss = 0.01048573\n",
      "Iteration 303, loss = 0.01039636\n",
      "Iteration 304, loss = 0.01031161\n",
      "Iteration 305, loss = 0.01022567\n",
      "Iteration 306, loss = 0.01014269\n",
      "Iteration 307, loss = 0.01006824\n",
      "Iteration 308, loss = 0.01000094\n",
      "Iteration 309, loss = 0.00993837\n",
      "Iteration 310, loss = 0.00987733\n",
      "Iteration 311, loss = 0.00981216\n",
      "Iteration 312, loss = 0.00974704\n",
      "Iteration 313, loss = 0.00967366\n",
      "Iteration 314, loss = 0.00959533\n",
      "Iteration 315, loss = 0.00952469\n",
      "Iteration 316, loss = 0.00945017\n",
      "Iteration 317, loss = 0.00937162\n",
      "Iteration 318, loss = 0.00930045\n",
      "Iteration 319, loss = 0.00923870\n",
      "Iteration 320, loss = 0.00917933\n",
      "Iteration 321, loss = 0.00912105\n",
      "Iteration 322, loss = 0.00906103\n",
      "Iteration 323, loss = 0.00900056\n",
      "Iteration 324, loss = 0.00894114\n",
      "Iteration 325, loss = 0.00888337\n",
      "Iteration 326, loss = 0.00882861\n",
      "Iteration 327, loss = 0.00877258\n",
      "Iteration 328, loss = 0.00870815\n",
      "Iteration 329, loss = 0.00863425\n",
      "Iteration 330, loss = 0.00855392\n",
      "Iteration 331, loss = 0.00848342\n",
      "Iteration 332, loss = 0.00841927\n",
      "Iteration 333, loss = 0.00836043\n",
      "Iteration 334, loss = 0.00830301\n",
      "Iteration 335, loss = 0.00824803\n",
      "Iteration 336, loss = 0.00819590\n",
      "Iteration 337, loss = 0.00814553\n",
      "Iteration 338, loss = 0.00809652\n",
      "Iteration 339, loss = 0.00804814\n",
      "Iteration 340, loss = 0.00799286\n",
      "Iteration 341, loss = 0.00793241\n",
      "Iteration 342, loss = 0.00787639\n",
      "Iteration 343, loss = 0.00782200\n",
      "Iteration 344, loss = 0.00776704\n",
      "Iteration 345, loss = 0.00771192\n",
      "Iteration 346, loss = 0.00765298\n",
      "Iteration 347, loss = 0.00758883\n",
      "Iteration 348, loss = 0.00752464\n",
      "Iteration 349, loss = 0.00746367\n",
      "Iteration 350, loss = 0.00740620\n",
      "Iteration 351, loss = 0.00734903\n",
      "Iteration 352, loss = 0.00729373\n",
      "Iteration 353, loss = 0.00723969\n",
      "Iteration 354, loss = 0.00718797\n",
      "Iteration 355, loss = 0.00713858\n",
      "Iteration 356, loss = 0.00709028\n",
      "Iteration 357, loss = 0.00704369\n",
      "Iteration 358, loss = 0.00699788\n",
      "Iteration 359, loss = 0.00695670\n",
      "Iteration 360, loss = 0.00691756\n",
      "Iteration 361, loss = 0.00687875\n",
      "Iteration 362, loss = 0.00683904\n",
      "Iteration 363, loss = 0.00678661\n",
      "Iteration 364, loss = 0.00672874\n",
      "Iteration 365, loss = 0.00667556\n",
      "Iteration 366, loss = 0.00662359\n",
      "Iteration 367, loss = 0.00657271\n",
      "Iteration 368, loss = 0.00652607\n",
      "Iteration 369, loss = 0.00648088\n",
      "Iteration 370, loss = 0.00643048\n",
      "Iteration 371, loss = 0.00637707\n",
      "Iteration 372, loss = 0.00632470\n",
      "Iteration 373, loss = 0.00627224\n",
      "Iteration 374, loss = 0.00621990\n",
      "Iteration 375, loss = 0.00616609\n",
      "Iteration 376, loss = 0.00611175\n",
      "Iteration 377, loss = 0.00604382\n",
      "Iteration 378, loss = 0.00597269\n",
      "Iteration 379, loss = 0.00591722\n",
      "Iteration 380, loss = 0.00586769\n",
      "Iteration 381, loss = 0.00582206\n",
      "Iteration 382, loss = 0.00578182\n",
      "Iteration 383, loss = 0.00574445\n",
      "Iteration 384, loss = 0.00570863\n",
      "Iteration 385, loss = 0.00567374\n",
      "Iteration 386, loss = 0.00564031\n",
      "Iteration 387, loss = 0.00560648\n",
      "Iteration 388, loss = 0.00556523\n",
      "Iteration 389, loss = 0.00552415\n",
      "Iteration 390, loss = 0.00548356\n",
      "Iteration 391, loss = 0.00543984\n",
      "Iteration 392, loss = 0.00540005\n",
      "Iteration 393, loss = 0.00536330\n",
      "Iteration 394, loss = 0.00532923\n",
      "Iteration 395, loss = 0.00529697\n",
      "Iteration 396, loss = 0.00526452\n",
      "Iteration 397, loss = 0.00523339\n",
      "Iteration 398, loss = 0.00520019\n",
      "Iteration 399, loss = 0.00516305\n",
      "Iteration 400, loss = 0.00512600\n",
      "Iteration 401, loss = 0.00508949\n",
      "Iteration 402, loss = 0.00505449\n",
      "Iteration 403, loss = 0.00501973\n",
      "Iteration 404, loss = 0.00498613\n",
      "Iteration 405, loss = 0.00495346\n",
      "Iteration 406, loss = 0.00492120\n",
      "Iteration 407, loss = 0.00489035\n",
      "Iteration 408, loss = 0.00486030\n",
      "Iteration 409, loss = 0.00483262\n",
      "Iteration 410, loss = 0.00480561\n",
      "Iteration 411, loss = 0.00477914\n",
      "Iteration 412, loss = 0.00475290\n",
      "Iteration 413, loss = 0.00472725\n",
      "Iteration 414, loss = 0.00470151\n",
      "Iteration 415, loss = 0.00467696\n",
      "Iteration 416, loss = 0.00465254\n",
      "Iteration 417, loss = 0.00462745\n",
      "Iteration 418, loss = 0.00460346\n",
      "Iteration 419, loss = 0.00458085\n",
      "Iteration 420, loss = 0.00455916\n",
      "Iteration 421, loss = 0.00453727\n",
      "Iteration 422, loss = 0.00451697\n",
      "Iteration 423, loss = 0.00449631\n",
      "Iteration 424, loss = 0.00447624\n",
      "Iteration 425, loss = 0.00445689\n",
      "Iteration 426, loss = 0.00443785\n",
      "Iteration 427, loss = 0.00441818\n",
      "Iteration 428, loss = 0.00439564\n",
      "Iteration 429, loss = 0.00436999\n",
      "Iteration 430, loss = 0.00432895\n",
      "Iteration 431, loss = 0.00428869\n",
      "Iteration 432, loss = 0.00425554\n",
      "Iteration 433, loss = 0.00422632\n",
      "Iteration 434, loss = 0.00419858\n",
      "Iteration 435, loss = 0.00417445\n",
      "Iteration 436, loss = 0.00415278\n",
      "Iteration 437, loss = 0.00413359\n",
      "Iteration 438, loss = 0.00410126\n",
      "Iteration 439, loss = 0.00405921\n",
      "Iteration 440, loss = 0.00402067\n",
      "Iteration 441, loss = 0.00398604\n",
      "Iteration 442, loss = 0.00395499\n",
      "Iteration 443, loss = 0.00392770\n",
      "Iteration 444, loss = 0.00390252\n",
      "Iteration 445, loss = 0.00387857\n",
      "Iteration 446, loss = 0.00385502\n",
      "Iteration 447, loss = 0.00383079\n",
      "Iteration 448, loss = 0.00380798\n",
      "Iteration 449, loss = 0.00378751\n",
      "Iteration 450, loss = 0.00376918\n",
      "Iteration 451, loss = 0.00375228\n",
      "Iteration 452, loss = 0.00373629\n",
      "Iteration 453, loss = 0.00372077\n",
      "Iteration 454, loss = 0.00370561\n",
      "Iteration 455, loss = 0.00369102\n",
      "Iteration 456, loss = 0.00367570\n",
      "Iteration 457, loss = 0.00366077\n",
      "Iteration 458, loss = 0.00364663\n",
      "Iteration 459, loss = 0.00363290\n",
      "Iteration 460, loss = 0.00361860\n",
      "Iteration 461, loss = 0.00360337\n",
      "Iteration 462, loss = 0.00358795\n",
      "Iteration 463, loss = 0.00357217\n",
      "Iteration 464, loss = 0.00355621\n",
      "Iteration 465, loss = 0.00354092\n",
      "Iteration 466, loss = 0.00352670\n",
      "Iteration 467, loss = 0.00351194\n",
      "Iteration 468, loss = 0.00349619\n",
      "Iteration 469, loss = 0.00347962\n",
      "Iteration 470, loss = 0.00346307\n",
      "Iteration 471, loss = 0.00344754\n",
      "Iteration 472, loss = 0.00342909\n",
      "Iteration 473, loss = 0.00340966\n",
      "Iteration 474, loss = 0.00339129\n",
      "Iteration 475, loss = 0.00337301\n",
      "Iteration 476, loss = 0.00335488\n",
      "Iteration 477, loss = 0.00333702\n",
      "Iteration 478, loss = 0.00332043\n",
      "Iteration 479, loss = 0.00330472\n",
      "Iteration 480, loss = 0.00328855\n",
      "Iteration 481, loss = 0.00327158\n",
      "Iteration 482, loss = 0.00325463\n",
      "Iteration 483, loss = 0.00323948\n",
      "Iteration 484, loss = 0.00322546\n",
      "Iteration 485, loss = 0.00321196\n",
      "Iteration 486, loss = 0.00319916\n",
      "Iteration 487, loss = 0.00318690\n",
      "Iteration 488, loss = 0.00317459\n",
      "Iteration 489, loss = 0.00316311\n",
      "Iteration 490, loss = 0.00315170\n",
      "Iteration 491, loss = 0.00314076\n",
      "Iteration 492, loss = 0.00312965\n",
      "Iteration 493, loss = 0.00311867\n",
      "Iteration 494, loss = 0.00310747\n",
      "Iteration 495, loss = 0.00309624\n",
      "Iteration 496, loss = 0.00308571\n",
      "Iteration 497, loss = 0.00307555\n",
      "Iteration 498, loss = 0.00306587\n",
      "Iteration 499, loss = 0.00305668\n",
      "Iteration 500, loss = 0.00304560\n",
      "Iteration 501, loss = 0.00303237\n",
      "Iteration 502, loss = 0.00301857\n",
      "Iteration 503, loss = 0.00300621\n",
      "Iteration 504, loss = 0.00299146\n",
      "Iteration 505, loss = 0.00297695\n",
      "Iteration 506, loss = 0.00296354\n",
      "Iteration 507, loss = 0.00294929\n",
      "Iteration 508, loss = 0.00293524\n",
      "Iteration 509, loss = 0.00292231\n",
      "Iteration 510, loss = 0.00291012\n",
      "Iteration 511, loss = 0.00289889\n",
      "Iteration 512, loss = 0.00288841\n",
      "Iteration 513, loss = 0.00287800\n",
      "Iteration 514, loss = 0.00286713\n",
      "Iteration 515, loss = 0.00285449\n",
      "Iteration 516, loss = 0.00284057\n",
      "Iteration 517, loss = 0.00282760\n",
      "Iteration 518, loss = 0.00281530\n",
      "Iteration 519, loss = 0.00280368\n",
      "Iteration 520, loss = 0.00279314\n",
      "Iteration 521, loss = 0.00278294\n",
      "Iteration 522, loss = 0.00277109\n",
      "Iteration 523, loss = 0.00275835\n",
      "Iteration 524, loss = 0.00274569\n",
      "Iteration 525, loss = 0.00273360\n",
      "Iteration 526, loss = 0.00271806\n",
      "Iteration 527, loss = 0.00269236\n",
      "Iteration 528, loss = 0.00266797\n",
      "Iteration 529, loss = 0.00264938\n",
      "Iteration 530, loss = 0.00263422\n",
      "Iteration 531, loss = 0.00261794\n",
      "Iteration 532, loss = 0.00260242\n",
      "Iteration 533, loss = 0.00258916\n",
      "Iteration 534, loss = 0.00257659\n",
      "Iteration 535, loss = 0.00256482\n",
      "Iteration 536, loss = 0.00255298\n",
      "Iteration 537, loss = 0.00254075\n",
      "Iteration 538, loss = 0.00252955\n",
      "Iteration 539, loss = 0.00251897\n",
      "Iteration 540, loss = 0.00250829\n",
      "Iteration 541, loss = 0.00249548\n",
      "Iteration 542, loss = 0.00248200\n",
      "Iteration 543, loss = 0.00246983\n",
      "Iteration 544, loss = 0.00245827\n",
      "Iteration 545, loss = 0.00244706\n",
      "Iteration 546, loss = 0.00243627\n",
      "Iteration 547, loss = 0.00242560\n",
      "Iteration 548, loss = 0.00241420\n",
      "Iteration 549, loss = 0.00240383\n",
      "Iteration 550, loss = 0.00239310\n",
      "Iteration 551, loss = 0.00238253\n",
      "Iteration 552, loss = 0.00237176\n",
      "Iteration 553, loss = 0.00236150\n",
      "Iteration 554, loss = 0.00235082\n",
      "Iteration 555, loss = 0.00234070\n",
      "Iteration 556, loss = 0.00233052\n",
      "Iteration 557, loss = 0.00231869\n",
      "Iteration 558, loss = 0.00230694\n",
      "Iteration 559, loss = 0.00229680\n",
      "Iteration 560, loss = 0.00228755\n",
      "Iteration 561, loss = 0.00227879\n",
      "Iteration 562, loss = 0.00227013\n",
      "Iteration 563, loss = 0.00226150\n",
      "Iteration 564, loss = 0.00225308\n",
      "Iteration 565, loss = 0.00224480\n",
      "Iteration 566, loss = 0.00223035\n",
      "Iteration 567, loss = 0.00221858\n",
      "Iteration 568, loss = 0.00220835\n",
      "Iteration 569, loss = 0.00219900\n",
      "Iteration 570, loss = 0.00219017\n",
      "Iteration 571, loss = 0.00218197\n",
      "Iteration 572, loss = 0.00217405\n",
      "Iteration 573, loss = 0.00216566\n",
      "Iteration 574, loss = 0.00215737\n",
      "Iteration 575, loss = 0.00214951\n",
      "Iteration 576, loss = 0.00214208\n",
      "Iteration 577, loss = 0.00213514\n",
      "Iteration 578, loss = 0.00212820\n",
      "Iteration 579, loss = 0.00212107\n",
      "Training loss did not improve more than tol=0.000010 for 10 consecutive epochs. Stopping.\n",
      "Out[73]: MLPClassifier(hidden_layer_sizes=(20, 20), max_iter=1000, tol=1e-05,\n",
      "              verbose=True)"
     ]
    }
   ],
   "source": [
    "rede_neural_dummies = MLPClassifier(max_iter=1000, verbose=True, tol=0.0000100,\n",
    "                                   solver = 'adam', activation = 'relu',\n",
    "                                   hidden_layer_sizes = (20,20))\n",
    "rede_neural_dummies.fit(X_dummies_treinamento, y_dummies_treinamento)"
   ]
  },
  {
   "cell_type": "code",
   "execution_count": null,
   "metadata": {
    "application/vnd.databricks.v1+cell": {
     "cellMetadata": {
      "byteLimit": 2048000,
      "rowLimit": 10000
     },
     "inputWidgets": {},
     "nuid": "58b9db3c-5526-41b2-824f-6ff96c37857b",
     "showTitle": false,
     "title": ""
    },
    "colab": {
     "base_uri": "https://localhost:8080/"
    },
    "id": "9IfptGKF8tzP",
    "outputId": "727159d1-74a0-4fe5-9959-d22a9fb00450"
   },
   "outputs": [
    {
     "name": "stdout",
     "output_type": "stream",
     "text": [
      "Out[74]: array([2, 1, 2, 1, 0, 2, 1, 0, 0, 2, 2, 0, 0, 1, 1, 0, 2, 0, 2, 2, 2, 0,\n",
      "       1, 0, 1, 1, 1, 0, 0, 2, 1, 2, 2, 0, 1, 2, 1, 2, 2, 2, 0, 0, 1, 0,\n",
      "       0, 2, 1, 2, 1, 1, 2, 1, 2, 0, 0, 2, 2, 1, 2, 1, 2, 0, 1, 0, 0, 0,\n",
      "       2, 1])"
     ]
    }
   ],
   "source": [
    "previsoes = rede_neural_dummies.predict(X_dummies_teste)\n",
    "previsoes"
   ]
  },
  {
   "cell_type": "code",
   "execution_count": null,
   "metadata": {
    "application/vnd.databricks.v1+cell": {
     "cellMetadata": {
      "byteLimit": 2048000,
      "rowLimit": 10000
     },
     "inputWidgets": {},
     "nuid": "adce1458-443f-43a7-ae32-c9d0e4a55f27",
     "showTitle": false,
     "title": ""
    },
    "colab": {
     "base_uri": "https://localhost:8080/"
    },
    "id": "gzGpzj-D9t54",
    "outputId": "53a283bf-35c9-4517-dc03-c9688713aaa0"
   },
   "outputs": [
    {
     "name": "stdout",
     "output_type": "stream",
     "text": [
      "Out[75]: array([1, 2, 2, 2, 1, 2, 2, 2, 1, 2, 1, 1, 1, 1, 0, 1, 2, 1, 0, 2, 0, 1,\n",
      "       1, 1, 2, 0, 1, 1, 0, 0, 2, 0, 2, 0, 0, 1, 0, 2, 2, 0, 0, 2, 1, 0,\n",
      "       0, 1, 1, 0, 0, 2, 1, 2, 0, 0, 0, 1, 1, 0, 2, 2, 2, 0, 2, 2, 1, 0,\n",
      "       0, 2])"
     ]
    }
   ],
   "source": [
    "y_dummies_teste"
   ]
  },
  {
   "cell_type": "code",
   "execution_count": null,
   "metadata": {
    "application/vnd.databricks.v1+cell": {
     "cellMetadata": {
      "byteLimit": 2048000,
      "rowLimit": 10000
     },
     "inputWidgets": {},
     "nuid": "b2f95395-5be1-4802-aac9-f0fa01ba55c0",
     "showTitle": false,
     "title": ""
    },
    "colab": {
     "base_uri": "https://localhost:8080/"
    },
    "id": "Q3YtJi8N9wj_",
    "outputId": "3a6b52c1-868a-4bf6-ae49-12d96240805f"
   },
   "outputs": [
    {
     "name": "stdout",
     "output_type": "stream",
     "text": [
      "Out[76]: 0.35294117647058826"
     ]
    }
   ],
   "source": [
    "from sklearn.metrics import accuracy_score, classification_report\n",
    "accuracy_score(y_dummies_teste, previsoes)"
   ]
  },
  {
   "cell_type": "code",
   "execution_count": null,
   "metadata": {
    "application/vnd.databricks.v1+cell": {
     "cellMetadata": {
      "byteLimit": 2048000,
      "rowLimit": 10000
     },
     "inputWidgets": {},
     "nuid": "a1db8ecc-8a99-499b-b4fd-8cec00cdfcb2",
     "showTitle": false,
     "title": ""
    },
    "colab": {
     "base_uri": "https://localhost:8080/",
     "height": 496
    },
    "id": "lVjqRsrZ9yl4",
    "outputId": "0065ea59-e8c0-46fc-f297-0fe1873cc373"
   },
   "outputs": [
    {
     "name": "stdout",
     "output_type": "stream",
     "text": [
      "Out[77]: 0.35294117647058826"
     ]
    },
    {
     "data": {
      "image/png": "[encoded data removed]"
     },
     "metadata": {
      "application/vnd.databricks.v1+output": {
       "addedWidgets": {},
       "arguments": {},
       "data": "data:image/png;base64,iVBORw0KGgoAAAANSUhEUgAAAdsAAAFICAYAAAAYiFTZAAAAOXRFWHRTb2Z0d2FyZQBNYXRwbG90bGliIHZlcnNpb24zLjUuMSwgaHR0cHM6Ly9tYXRwbG90bGliLm9yZy/YYfK9AAAACXBIWXMAAAsTAAALEwEAmpwYAAAUZElEQVR4nO3cfXDUhZ3H8c9ms7tJlhgIEAhwymMIkhI4wSI+AFFoi2IEbOXasS131o5gChVpkYcQer3pecz4FIQbbWutOKXUh0uNSqGg4EO1Nj5gUhICkiIPJoQkFDYhD7t7f9iLh0CTCt/8/G3erxmG7O+37H7GWfJmH4wnGo1GBQAAzMQ5PQAAgFhHbAEAMEZsAQAwRmwBADBGbAEAMBZvcaORSEShUEg+n08ej8fiLgAA+NyIRqNqbW1VMBhUXNyZz2NNYhsKhbRnzx6LmwYA4HMrIyNDycnJZxw3ia3P55MkvfZvBTpVU2dxF+hmFu7fLkkKf2e6w0sQC7yPbpEkvT4kx+EliBXjKzZrz5497f37NJPY/t9Lx6dq6tR0pNbiLtDNBAIBSVL4OI8nnD/v3x5PUb4/4QLx+/2SdM63TvmAFAAAxogtAADGiC0AAMaILQAAxogtAADGiC0AAMaILQAAxogtAADGiC0AAMaILQAAxogtAADGiC0AAMaILQAAxogtAADGiC0AAMaILQAAxogtAADGiC0AAMaILQAAxogtAADGiC0AAMaILQAAxogtAADGiC0AAMaILQAAxogtAADGiC0AAMaILQAAxogtAADGiC0AAMaILQAAxogtAADGiC0AAMaILQAAxogtAADGiC0AAMaILQAAxogtAADGiC0AAMaILQAAxogtAADGiC0AAMaIrUP6ZA7VN7c9rh82/El5lVuUedN1Tk9CDPj1oePK2r5XFz2/Wxm/r9Qrx0JOT4KLJVwyUGOef0RX1/1RVx55VRmFK+Xxep2e5Uqdim1DQ4MWLFigsWPHaurUqXruueesd8U0j9eruUXrtKf4Jf1X6uV67vZ8zdqwRqkjBjs9DS62teak7vlzjX46doAaZmTqpSsHa2iS3+lZcLGMdavUWnNMr6VfpbfG3qSekydo4PyvOz3LlToV2x/96Efy+Xx67bXXtGbNGhUUFKiystJ6W8zqkzlUyQPS9Mb9v1A0ElHVS2/ow9feVvatuU5Pg4utrjiqFRl9NDE1SXEejwYm+jQw0ef0LLhY4pBBqtn0oiLNLWqprtWxza8qOHq407NcqcPYNjY2asuWLVq4cKGCwaDGjx+vnJwcFRUVdcW+7sPjUd+sEU6vgEuFo1GVNDTpaEtYI39fqUu27NH3dh1RUzji9DS42IcPPK60udcrLjFB/gFp6v2Vq3Vs8ytOz3KlDmNbVVUlr9erIUOGtB/LzMzU3r17TYfFsmMV+xWqqdOkJbcpLj5eQ6ddqcGTJ8iXlOD0NLhUdXObWqPSM4f/qpevGqySyUP1zvFT+o89tU5Pg4s17HxLwdHDdc1fS3TVoVd04k+lqv2f3zs9y5U69cy2R48epx1LTk5WKMQHLz6rSFubNt60QCOun6zFH72qKxbPU9mmzTpxsNrpaXCpxLiP/yovGJKq9ASf+gTi9f1hvbW5+qTDy+BaHo/Gbv6pjj6zVTuCY7Wz9xcV3ytFw+5d4vQyV+owtklJSTp58vS/sCdPnlQwGDQb1R3UvF+hx6fcqjV9JurJL9+mXkMH6dAfdzk9Cy7Vy+/VoIR4eTyfHPOc++pAh3ypPZVwyUAdXLtB0ZZWtdU16MhjT6v3jGucnuZKHcZ28ODBCofDqqqqaj9WXl6u4cN5k/x8pH1hpLwBv+ITE3TF4n9Vj/Q0vfuLZ5yeBRf71sU99fD+OtU0t6m+JawHPjimGf17dPwHgbNoPVavpg8+1KA7/kUer1fxKclK/9YsndxV4fQ0V+rUM9tp06bpoYceUmNjo0pKSrRt2zbl5vLJ2fORfWuuFh95VUtqXteQa6/QE9PmKdzS6vQsuNiKjL4a3zNRo7btVdZLezUuJVHLRvRxehZc7P3Zdyr1y1frqqN/0MS9WxVpbVPl93/i9CxX8kSj0WhHV2poaNCyZcv0+uuvq2fPnlq8eLFmzpx5zus3NzertLRU22Z+T01H+IAGzt+q6Mf/mg7njnZ4CWKBt6hMkrTdM9LhJYgVV57apdLSUmVlZSkQCJxxPr4zN9KzZ0+tW7fugo8DAKA74Mc1AgBgjNgCAGCM2AIAYIzYAgBgjNgCAGCM2AIAYIzYAgBgjNgCAGCM2AIAYIzYAgBgjNgCAGCM2AIAYIzYAgBgjNgCAGCM2AIAYIzYAgBgjNgCAGCM2AIAYIzYAgBgjNgCAGCM2AIAYIzYAgBgjNgCAGCM2AIAYIzYAgBgjNgCAGCM2AIAYIzYAgBgjNgCAGCM2AIAYIzYAgBgjNgCAGCM2AIAYIzYAgBgjNgCAGCM2AIAYIzYAgBgjNgCAGCM2AIAYIzYAgBgjNgCAGCM2AIAYIzYAgBgLN7yxh9LqVP1qaOWd4FuYtXffvcWlTm6A7ElJ1rh9ATEiObm5r97nme2cIXU1FSnJwDAZ2b6zHbe8VQ11Ucs7wLdxIO9jio1NVW1K0Y7PQUxIO6uVyRJBwf+k8NLECv6frD3757nmS0AAMaILQAAxogtAADGiC0AAMaILQAAxogtAADGiC0AAMaILQAAxogtAADGiC0AAMaILQAAxogtAADGiC0AAMaILQAAxogtAADGiC0AAMaILQAAxogtAADGiC0AAMaILQAAxogtAADGiC0AAMaILQAAxogtAADGiC0AAMaILQAAxogtAADGiC0AAMaILQAAxogtAADGiC0AAMaILQAAxogtAADGiC0AAMaILQAAxogtAADGiC0AAMaILQAAxogtAADGiC0AAMaILQAAxogtAADG4p0e0F1MWPANjf32bKV9IUOlvypW0bx72s8NyZmoGQ+vUsrF6Tr45i4VfXupjh847OBauFHOul164y8nFB/nkSQNTAlo99LLHF4Ftxqwp/y0y56EBIUe/6UaVuY7tMjdiG0XOXG4Rjt/vE7Dv3S14hMD7ccTe/fS155Zq+duW6GK57Yr598X6eZf36+fXXGLg2vhVg/NGqbbJvZ3egZiwOGMzPavPUlJSn/3bTUWP+/gInfr1MvIGzZs0OzZs5WVlaWlS5dab4pJ5c9uVUXRNjUeazjt+KjZ03S0rFJ/fmqzws0termgUP2yM9V75FBnhgLApyReP0OR2lq1vPmm01Ncq1OxTUtL0/z58zVnzhzrPd1O2ugRqn6vov1ya2OT6vcdUNro4Q6uglstf6FKaSvf0NWF7+nlvQ1Oz0GMSPrqzWp86mmnZ7hap15Gnj59uiTp/fffV3V1temg7sbfI0mho3WnHTt1/KT8yUGHFsGtfnL9EF3aL1H++DhtfOeocn++W2/fNVbD+iQ6PQ0u5h04UIGJE1W/eInTU1yNTyM7rOVkowIX9TjtWOCioFpOhBxaBLf64iXJSk6IVyA+Tt+a0E+TBifrxd31Ts+CyyXdPEctf3xL4Q8/dHqKqxFbh9WUVapf9icfRPAlJSp12MWqKdvr4CrEAo/Ho6jTI+B6STfPUeg3Tzk9w/WIbRfxeL3yBvyK88a1f+3xelX+7FalZY3QqNnT5Q34NTl/gap3VehYxQdOT4aLNDS16Xfl9TrVGlFbOKonS2r0ygfH9aXMXk5Pg4v5x18mb//+aioudnqK6/G//nSRa1bcoSkFee2Xs2/N1csFhdqxeq02zcnTjLX5mrVhjQ69+Z6emnuXg0vhRq3hqPI3/0XlNU3yeqTMtCQ98+1RyujL+7X47JK+erOaXnxR0RBva52vTsW2ra1N4XBYkUhE4XBYzc3N8nq9io+n1Z21Y/Va7Vi99qzn9m/7gx4e9ZUuXoRY0reHT28uGuv0DMSYhh/e0/GV0Cmdehl5/fr1GjNmjB555BH99re/1ZgxY7R+/XrrbQAAxIROPTXNy8tTXl5ex1cEAABn4ANSAAAYI7YAABgjtgAAGCO2AAAYI7YAABgjtgAAGCO2AAAYI7YAABgjtgAAGCO2AAAYI7YAABgjtgAAGCO2AAAYI7YAABgjtgAAGCO2AAAYI7YAABgjtgAAGCO2AAAYI7YAABgjtgAAGCO2AAAYI7YAABgjtgAAGCO2AAAYI7YAABgjtgAAGCO2AAAYI7YAABgjtgAAGCO2AAAYI7YAABgjtgAAGCO2AAAYI7YAABgjtgAAGCO2AAAYI7YAABgjtgAAGCO2AAAYI7YAABgjtgAAGCO2AAAY80Sj0eiFvtHm5maVlpYqKytLgUDgQt88uqHU1FSnJyCG1NXVOT0BMaaj7vHMFq7AN0dcSPzjDV0t3vLGo/v/U9G4Rsu7QDfhybhXdXV1Wu0Z6fQUxIAHex1VamqqFtb3dXoKYsTGzDht2LDhnOd5ZgsAgDFiCwCAMWILAIAxYgsAgDFiCwCAMWILAIAxYgsAgDFiCwCAMWILAIAxYgsAgDFiCwCAMWILAIAxYgsAgDFiCwCAMWILAIAxYgsAgDFiCwCAMWILAIAxYgsAgDFiCwCAMWILAIAxYgsAgDFiCwCAMWILAIAxYgsAgDFiCwCAMWILAIAxYgsAgDFiCwCAMWILAIAxYgsAgDFiCwCAMWILAIAxYgsAgDFiCwCAMWILAIAxYgsAgDFiCwCAMWILAIAxYgsAgDFiCwCAMWILAIAxYuuQW+8u1oCrHlbKPz+gkV96VD/9zXtOT4LLTFjwDX3nrae1/NT7yn3sJ6edG5IzUQt2v6hloXf1ze2/VMrFAxxaCTfhMWWnw9i2tLRo2bJlmjp1qsaNG6fc3Fzt2LGjK7bFtKXfnaj927+r428vUtG62Vr5wKsqKf3I6VlwkROHa7Tzx+v07s+fPu14Yu9e+toza/XSygd1b+rlOvKnUt386/sdWgk34TFlp8PYtrW1KT09XU888YRKSkq0aNEiLVq0SAcPHuyKfTFr9Ig+CvjjJUkez8e/9h1ocHYUXKX82a2qKNqmxmMNpx0fNXuajpZV6s9PbVa4uUUvFxSqX3ameo8c6sxQuAaPKTsdxjYpKUl5eXkaNGiQ4uLiNHXqVA0aNEhlZWVdsS+mzS/YomD2fRr1lZ8pvW9QMybzwMX5Sxs9QtXvVbRfbm1sUv2+A0obPdzBVXAzHlPn7x9+z7a2tlZVVVUaPpz/yOdrXcF0/fXtRdr55Nc1a1qGAn6v05MQA/w9knTq+InTjp06flL+5KBDi+B2PKbO3z8U29bWVt19992aNWuWhg0bZrWpW/F643TV+EE6+NEJrf/Vu07PQQxoOdmowEU9TjsWuCiolhMhhxbB7XhMnb9OxzYSiegHP/iBfD6fVq5cabmpW2oLR3jPFhdETVml+mVntl/2JSUqddjFqinb6+AquBmPqfPXqdhGo1EtX75ctbW1KiwslM/ns94V02qOhbTx+d06GWpROBzR717Zr43Pl+vaKy52ehpcxOP1yhvwK84b1/61x+tV+bNblZY1QqNmT5c34Nfk/AWq3lWhYxUfOD0Zn3M8puzEd+ZKq1at0r59+/TYY48pISHBelPM83g8+u9fvaM7Vm1RJBLVJQMv0v3LcnTjtSOcngYXuWbFHZpSkNd+OfvWXL1cUKgdq9dq05w8zVibr1kb1ujQm+/pqbl3ObgUbsFjyo4nGo1G/94VDh06pJycHPn9fsXHf9Lm1atX68Ybbzzrn2lublZpaalGB4sViGu8sIvRLXky7pUkrfaMdHgJYsGDvY5KkhbW93V4CWLFxsw4bdiwQVlZWQoEAmec7/CZ7cCBA1VRUdHR1QAAwDnw4xoBADBGbAEAMEZsAQAwRmwBADBGbAEAMEZsAQAwRmwBADBGbAEAMEZsAQAwRmwBADBGbAEAMEZsAQAwRmwBADBGbAEAMEZsAQAwRmwBADBGbAEAMEZsAQAwRmwBADBGbAEAMEZsAQAwRmwBADBGbAEAMEZsAQAwRmwBADBGbAEAMEZsAQAwRmwBADBGbAEAMEZsAQAwRmwBADBGbAEAMEZsAQAwRmwBADBGbAEAMEZsAQAwRmwBADBGbAEAMEZsAQAwRmwBADBGbAEAMEZsAQAwRmwBADAWb3Gj0WhUktQ68C55/H6Lu0B309wsSVp6apfDQxALNo4d+/Hv/ZzdgdjRp08fSZ/079M80XOdOQ8nTpzQnj17LvTNAgDwuZaRkaHk5OQzjpvENhKJKBQKyefzyePxXOibBwDgcyUajaq1tVXBYFBxcWe+Q2sSWwAA8Ak+IAUAgDFiCwCAMWILAIAxYgsAgDFiCwCAMWILAIAxk58ghbPbt2+fioqKVFlZqVAopGAwqBEjRig3N1fDhg1zeh4A6PDhwyorK9Pw4cM1ZMiQ084VFxfrhhtucGiZu/HMtosUFxfrlltu0UcffaQJEyZo5syZuvzyy1VdXa25c+fqhRdecHoiYkw4HNbatWudngEX2blzp2644QYVFhbqpptuUkFBgcLhcPv5/Px8B9e5Gz/Uoovk5ORozZo1uuyyy844V1JSoiVLlmj79u0OLEOsamlpUXZ2tnbv3u30FLjErFmztHDhQk2ZMkW1tbVasmSJ/H6/CgsL5ff7NW7cOL3zzjtOz3QlXkbuIvX19Ro9evRZz1166aWqr6/v4kWIBffcc885z/3/ZyRAZxw4cEBTpkyR9PEP1n/00Ue1ZMkS3X777Vq/fr2z41yOl5G7yKRJk7Rs2TIdOHDgtOMHDhzQihUrNGnSJIeWwc2Ki4uVkJCgfv36nfGrf//+Ts+Dy6SkpOjIkSPtl+Pj43XfffcpPT1d8+bNUyQScXCdu/Eychc5fvy4Vq9erS1btsjn8ykYDCoUCqmtrU3Tp09Xfn6+UlJSnJ4Jl5kzZ47mz5+va6+99oxzzc3Nys7OVnl5uQPL4EbLly9Xenq67rzzzjPO5efna9OmTTyePiNi28WamppUVVXV/mnkwYMHKzEx0elZcKknn3xS/fr103XXXXfGuXA4rPXr15/1GydwNi0tLQqHw+f8nnT48GENGDCgi1fFBmILAIAx3rMFAMAYsQUAwBixBQDAGLEFAMAYsQUAwNj/Ai6qADzLO7wrAAAAAElFTkSuQmCC\n",
       "datasetInfos": [],
       "metadata": {},
       "removedWidgets": [],
       "type": "image"
      }
     },
     "output_type": "display_data"
    }
   ],
   "source": [
    "from yellowbrick.classifier import ConfusionMatrix\n",
    "cm = ConfusionMatrix(rede_neural_dummies)\n",
    "cm.fit(X_dummies_treinamento, y_dummies_treinamento)\n",
    "cm.score(X_dummies_teste, y_dummies_teste)"
   ]
  }
 ],
 "metadata": {
  "application/vnd.databricks.v1+notebook": {
   "dashboards": [],
   "environmentMetadata": null,
   "language": "python",
   "notebookMetadata": {
    "pythonIndentUnit": 4
   },
   "notebookName": "Machine_Learning_Cancer2",
   "widgets": {}
  },
  "colab": {
   "collapsed_sections": [
    "HFdbRomQTLKR",
    "gmDseuOEUWm6",
    "vmo9JXJtX8_H",
    "zDxukRFMYmV_",
    "2UGZhQKEZY8t"
   ],
   "provenance": []
  },
  "kernelspec": {
   "display_name": "Python 3",
   "name": "python3"
  }
 },
 "nbformat": 4,
 "nbformat_minor": 0
}
